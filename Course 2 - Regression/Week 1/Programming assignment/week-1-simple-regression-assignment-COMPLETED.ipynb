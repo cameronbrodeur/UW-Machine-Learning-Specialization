{
 "cells": [
  {
   "cell_type": "markdown",
   "metadata": {},
   "source": [
    "# Regression Week 1: Simple Linear Regression"
   ]
  },
  {
   "cell_type": "markdown",
   "metadata": {},
   "source": [
    "In this notebook we will use data on house sales in King County to predict house prices using simple (one input) linear regression. You will:\n",
    "* Use graphlab SArray and SFrame functions to compute important summary statistics\n",
    "* Write a function to compute the Simple Linear Regression weights using the closed form solution\n",
    "* Write a function to make predictions of the output given the input feature\n",
    "* Turn the regression around to predict the input given the output\n",
    "* Compare two different models for predicting house prices\n",
    "\n",
    "In this notebook you will be provided with some already complete code as well as some code that you should complete yourself in order to answer quiz questions. The code we provide to complete is optional and is there to assist you with solving the problems but feel free to ignore the helper code and write your own."
   ]
  },
  {
   "cell_type": "markdown",
   "metadata": {},
   "source": [
    "# Fire up graphlab create"
   ]
  },
  {
   "cell_type": "code",
   "execution_count": 7,
   "metadata": {},
   "outputs": [],
   "source": [
    "import graphlab\n",
    "#import graphlab as gl\n",
    "debug = True"
   ]
  },
  {
   "cell_type": "markdown",
   "metadata": {},
   "source": [
    "# Load house sales data\n",
    "\n",
    "Dataset is from house sales in King County, the region where the city of Seattle, WA is located."
   ]
  },
  {
   "cell_type": "code",
   "execution_count": 8,
   "metadata": {},
   "outputs": [],
   "source": [
    "sales = graphlab.SFrame('./kc_house_data.gl/')"
   ]
  },
  {
   "cell_type": "markdown",
   "metadata": {},
   "source": [
    "# Split data into training and testing"
   ]
  },
  {
   "cell_type": "markdown",
   "metadata": {},
   "source": [
    "We use seed=0 so that everyone running this notebook gets the same results.  In practice, you may set a random seed (or let GraphLab Create pick a random seed for you).  "
   ]
  },
  {
   "cell_type": "code",
   "execution_count": 9,
   "metadata": {},
   "outputs": [],
   "source": [
    "train_data,test_data = sales.random_split(.8,seed=0)"
   ]
  },
  {
   "cell_type": "markdown",
   "metadata": {},
   "source": [
    "# Useful SFrame summary functions"
   ]
  },
  {
   "cell_type": "markdown",
   "metadata": {},
   "source": [
    "In order to make use of the closed form solution as well as take advantage of graphlab's built in functions we will review some important ones. In particular:\n",
    "* Computing the sum of an SArray\n",
    "* Computing the arithmetic average (mean) of an SArray\n",
    "* multiplying SArrays by constants\n",
    "* multiplying SArrays by other SArrays"
   ]
  },
  {
   "cell_type": "code",
   "execution_count": 10,
   "metadata": {},
   "outputs": [
    {
     "name": "stdout",
     "output_type": "stream",
     "text": [
      "average price via method 1: 540088.141905\n",
      "average price via method 2: 540088.141905\n"
     ]
    }
   ],
   "source": [
    "# Let's compute the mean of the House Prices in King County in 2 different ways.\n",
    "prices = sales['price'] # extract the price column of the sales SFrame -- this is now an SArray\n",
    "\n",
    "# recall that the arithmetic average (the mean) is the sum of the prices divided by the total number of houses:\n",
    "sum_prices = prices.sum()\n",
    "num_houses = prices.size() # when prices is an SArray .size() returns its length\n",
    "avg_price_1 = sum_prices/num_houses\n",
    "avg_price_2 = prices.mean() # if you just want the average, the .mean() function\n",
    "print \"average price via method 1: \" + str(avg_price_1)\n",
    "print \"average price via method 2: \" + str(avg_price_2)"
   ]
  },
  {
   "cell_type": "markdown",
   "metadata": {},
   "source": [
    "As we see we get the same answer both ways"
   ]
  },
  {
   "cell_type": "code",
   "execution_count": 11,
   "metadata": {},
   "outputs": [
    {
     "name": "stdout",
     "output_type": "stream",
     "text": [
      "the sum of price squared is: 9.21732513355e+15\n"
     ]
    }
   ],
   "source": [
    "# if we want to multiply every price by 0.5 it's a simple as:\n",
    "half_prices = 0.5*prices\n",
    "# Let's compute the sum of squares of price. We can multiply two SArrays of the same length elementwise also with *\n",
    "prices_squared = prices*prices\n",
    "sum_prices_squared = prices_squared.sum() # price_squared is an SArray of the squares and we want to add them up.\n",
    "print \"the sum of price squared is: \" + str(sum_prices_squared)"
   ]
  },
  {
   "cell_type": "markdown",
   "metadata": {},
   "source": [
    "Aside: The python notation x.xxe+yy means x.xx \\* 10^(yy). e.g 100 = 10^2 = 1*10^2 = 1e2 "
   ]
  },
  {
   "cell_type": "markdown",
   "metadata": {},
   "source": [
    "### Let's take a look at the data, just for reference..."
   ]
  },
  {
   "cell_type": "code",
   "execution_count": 12,
   "metadata": {},
   "outputs": [
    {
     "data": {
      "text/html": [
       "<div style=\"max-height:1000px;max-width:1500px;overflow:auto;\"><table frame=\"box\" rules=\"cols\">\n",
       "    <tr>\n",
       "        <th style=\"padding-left: 1em; padding-right: 1em; text-align: center\">id</th>\n",
       "        <th style=\"padding-left: 1em; padding-right: 1em; text-align: center\">date</th>\n",
       "        <th style=\"padding-left: 1em; padding-right: 1em; text-align: center\">price</th>\n",
       "        <th style=\"padding-left: 1em; padding-right: 1em; text-align: center\">bedrooms</th>\n",
       "        <th style=\"padding-left: 1em; padding-right: 1em; text-align: center\">bathrooms</th>\n",
       "        <th style=\"padding-left: 1em; padding-right: 1em; text-align: center\">sqft_living</th>\n",
       "        <th style=\"padding-left: 1em; padding-right: 1em; text-align: center\">sqft_lot</th>\n",
       "        <th style=\"padding-left: 1em; padding-right: 1em; text-align: center\">floors</th>\n",
       "        <th style=\"padding-left: 1em; padding-right: 1em; text-align: center\">waterfront</th>\n",
       "    </tr>\n",
       "    <tr>\n",
       "        <td style=\"padding-left: 1em; padding-right: 1em; text-align: center; vertical-align: top\">7129300520</td>\n",
       "        <td style=\"padding-left: 1em; padding-right: 1em; text-align: center; vertical-align: top\">2014-10-13 00:00:00+00:00</td>\n",
       "        <td style=\"padding-left: 1em; padding-right: 1em; text-align: center; vertical-align: top\">221900.0</td>\n",
       "        <td style=\"padding-left: 1em; padding-right: 1em; text-align: center; vertical-align: top\">3.0</td>\n",
       "        <td style=\"padding-left: 1em; padding-right: 1em; text-align: center; vertical-align: top\">1.0</td>\n",
       "        <td style=\"padding-left: 1em; padding-right: 1em; text-align: center; vertical-align: top\">1180.0</td>\n",
       "        <td style=\"padding-left: 1em; padding-right: 1em; text-align: center; vertical-align: top\">5650</td>\n",
       "        <td style=\"padding-left: 1em; padding-right: 1em; text-align: center; vertical-align: top\">1</td>\n",
       "        <td style=\"padding-left: 1em; padding-right: 1em; text-align: center; vertical-align: top\">0</td>\n",
       "    </tr>\n",
       "    <tr>\n",
       "        <td style=\"padding-left: 1em; padding-right: 1em; text-align: center; vertical-align: top\">6414100192</td>\n",
       "        <td style=\"padding-left: 1em; padding-right: 1em; text-align: center; vertical-align: top\">2014-12-09 00:00:00+00:00</td>\n",
       "        <td style=\"padding-left: 1em; padding-right: 1em; text-align: center; vertical-align: top\">538000.0</td>\n",
       "        <td style=\"padding-left: 1em; padding-right: 1em; text-align: center; vertical-align: top\">3.0</td>\n",
       "        <td style=\"padding-left: 1em; padding-right: 1em; text-align: center; vertical-align: top\">2.25</td>\n",
       "        <td style=\"padding-left: 1em; padding-right: 1em; text-align: center; vertical-align: top\">2570.0</td>\n",
       "        <td style=\"padding-left: 1em; padding-right: 1em; text-align: center; vertical-align: top\">7242</td>\n",
       "        <td style=\"padding-left: 1em; padding-right: 1em; text-align: center; vertical-align: top\">2</td>\n",
       "        <td style=\"padding-left: 1em; padding-right: 1em; text-align: center; vertical-align: top\">0</td>\n",
       "    </tr>\n",
       "    <tr>\n",
       "        <td style=\"padding-left: 1em; padding-right: 1em; text-align: center; vertical-align: top\">5631500400</td>\n",
       "        <td style=\"padding-left: 1em; padding-right: 1em; text-align: center; vertical-align: top\">2015-02-25 00:00:00+00:00</td>\n",
       "        <td style=\"padding-left: 1em; padding-right: 1em; text-align: center; vertical-align: top\">180000.0</td>\n",
       "        <td style=\"padding-left: 1em; padding-right: 1em; text-align: center; vertical-align: top\">2.0</td>\n",
       "        <td style=\"padding-left: 1em; padding-right: 1em; text-align: center; vertical-align: top\">1.0</td>\n",
       "        <td style=\"padding-left: 1em; padding-right: 1em; text-align: center; vertical-align: top\">770.0</td>\n",
       "        <td style=\"padding-left: 1em; padding-right: 1em; text-align: center; vertical-align: top\">10000</td>\n",
       "        <td style=\"padding-left: 1em; padding-right: 1em; text-align: center; vertical-align: top\">1</td>\n",
       "        <td style=\"padding-left: 1em; padding-right: 1em; text-align: center; vertical-align: top\">0</td>\n",
       "    </tr>\n",
       "    <tr>\n",
       "        <td style=\"padding-left: 1em; padding-right: 1em; text-align: center; vertical-align: top\">2487200875</td>\n",
       "        <td style=\"padding-left: 1em; padding-right: 1em; text-align: center; vertical-align: top\">2014-12-09 00:00:00+00:00</td>\n",
       "        <td style=\"padding-left: 1em; padding-right: 1em; text-align: center; vertical-align: top\">604000.0</td>\n",
       "        <td style=\"padding-left: 1em; padding-right: 1em; text-align: center; vertical-align: top\">4.0</td>\n",
       "        <td style=\"padding-left: 1em; padding-right: 1em; text-align: center; vertical-align: top\">3.0</td>\n",
       "        <td style=\"padding-left: 1em; padding-right: 1em; text-align: center; vertical-align: top\">1960.0</td>\n",
       "        <td style=\"padding-left: 1em; padding-right: 1em; text-align: center; vertical-align: top\">5000</td>\n",
       "        <td style=\"padding-left: 1em; padding-right: 1em; text-align: center; vertical-align: top\">1</td>\n",
       "        <td style=\"padding-left: 1em; padding-right: 1em; text-align: center; vertical-align: top\">0</td>\n",
       "    </tr>\n",
       "    <tr>\n",
       "        <td style=\"padding-left: 1em; padding-right: 1em; text-align: center; vertical-align: top\">1954400510</td>\n",
       "        <td style=\"padding-left: 1em; padding-right: 1em; text-align: center; vertical-align: top\">2015-02-18 00:00:00+00:00</td>\n",
       "        <td style=\"padding-left: 1em; padding-right: 1em; text-align: center; vertical-align: top\">510000.0</td>\n",
       "        <td style=\"padding-left: 1em; padding-right: 1em; text-align: center; vertical-align: top\">3.0</td>\n",
       "        <td style=\"padding-left: 1em; padding-right: 1em; text-align: center; vertical-align: top\">2.0</td>\n",
       "        <td style=\"padding-left: 1em; padding-right: 1em; text-align: center; vertical-align: top\">1680.0</td>\n",
       "        <td style=\"padding-left: 1em; padding-right: 1em; text-align: center; vertical-align: top\">8080</td>\n",
       "        <td style=\"padding-left: 1em; padding-right: 1em; text-align: center; vertical-align: top\">1</td>\n",
       "        <td style=\"padding-left: 1em; padding-right: 1em; text-align: center; vertical-align: top\">0</td>\n",
       "    </tr>\n",
       "    <tr>\n",
       "        <td style=\"padding-left: 1em; padding-right: 1em; text-align: center; vertical-align: top\">7237550310</td>\n",
       "        <td style=\"padding-left: 1em; padding-right: 1em; text-align: center; vertical-align: top\">2014-05-12 00:00:00+00:00</td>\n",
       "        <td style=\"padding-left: 1em; padding-right: 1em; text-align: center; vertical-align: top\">1225000.0</td>\n",
       "        <td style=\"padding-left: 1em; padding-right: 1em; text-align: center; vertical-align: top\">4.0</td>\n",
       "        <td style=\"padding-left: 1em; padding-right: 1em; text-align: center; vertical-align: top\">4.5</td>\n",
       "        <td style=\"padding-left: 1em; padding-right: 1em; text-align: center; vertical-align: top\">5420.0</td>\n",
       "        <td style=\"padding-left: 1em; padding-right: 1em; text-align: center; vertical-align: top\">101930</td>\n",
       "        <td style=\"padding-left: 1em; padding-right: 1em; text-align: center; vertical-align: top\">1</td>\n",
       "        <td style=\"padding-left: 1em; padding-right: 1em; text-align: center; vertical-align: top\">0</td>\n",
       "    </tr>\n",
       "    <tr>\n",
       "        <td style=\"padding-left: 1em; padding-right: 1em; text-align: center; vertical-align: top\">1321400060</td>\n",
       "        <td style=\"padding-left: 1em; padding-right: 1em; text-align: center; vertical-align: top\">2014-06-27 00:00:00+00:00</td>\n",
       "        <td style=\"padding-left: 1em; padding-right: 1em; text-align: center; vertical-align: top\">257500.0</td>\n",
       "        <td style=\"padding-left: 1em; padding-right: 1em; text-align: center; vertical-align: top\">3.0</td>\n",
       "        <td style=\"padding-left: 1em; padding-right: 1em; text-align: center; vertical-align: top\">2.25</td>\n",
       "        <td style=\"padding-left: 1em; padding-right: 1em; text-align: center; vertical-align: top\">1715.0</td>\n",
       "        <td style=\"padding-left: 1em; padding-right: 1em; text-align: center; vertical-align: top\">6819</td>\n",
       "        <td style=\"padding-left: 1em; padding-right: 1em; text-align: center; vertical-align: top\">2</td>\n",
       "        <td style=\"padding-left: 1em; padding-right: 1em; text-align: center; vertical-align: top\">0</td>\n",
       "    </tr>\n",
       "    <tr>\n",
       "        <td style=\"padding-left: 1em; padding-right: 1em; text-align: center; vertical-align: top\">2008000270</td>\n",
       "        <td style=\"padding-left: 1em; padding-right: 1em; text-align: center; vertical-align: top\">2015-01-15 00:00:00+00:00</td>\n",
       "        <td style=\"padding-left: 1em; padding-right: 1em; text-align: center; vertical-align: top\">291850.0</td>\n",
       "        <td style=\"padding-left: 1em; padding-right: 1em; text-align: center; vertical-align: top\">3.0</td>\n",
       "        <td style=\"padding-left: 1em; padding-right: 1em; text-align: center; vertical-align: top\">1.5</td>\n",
       "        <td style=\"padding-left: 1em; padding-right: 1em; text-align: center; vertical-align: top\">1060.0</td>\n",
       "        <td style=\"padding-left: 1em; padding-right: 1em; text-align: center; vertical-align: top\">9711</td>\n",
       "        <td style=\"padding-left: 1em; padding-right: 1em; text-align: center; vertical-align: top\">1</td>\n",
       "        <td style=\"padding-left: 1em; padding-right: 1em; text-align: center; vertical-align: top\">0</td>\n",
       "    </tr>\n",
       "    <tr>\n",
       "        <td style=\"padding-left: 1em; padding-right: 1em; text-align: center; vertical-align: top\">2414600126</td>\n",
       "        <td style=\"padding-left: 1em; padding-right: 1em; text-align: center; vertical-align: top\">2015-04-15 00:00:00+00:00</td>\n",
       "        <td style=\"padding-left: 1em; padding-right: 1em; text-align: center; vertical-align: top\">229500.0</td>\n",
       "        <td style=\"padding-left: 1em; padding-right: 1em; text-align: center; vertical-align: top\">3.0</td>\n",
       "        <td style=\"padding-left: 1em; padding-right: 1em; text-align: center; vertical-align: top\">1.0</td>\n",
       "        <td style=\"padding-left: 1em; padding-right: 1em; text-align: center; vertical-align: top\">1780.0</td>\n",
       "        <td style=\"padding-left: 1em; padding-right: 1em; text-align: center; vertical-align: top\">7470</td>\n",
       "        <td style=\"padding-left: 1em; padding-right: 1em; text-align: center; vertical-align: top\">1</td>\n",
       "        <td style=\"padding-left: 1em; padding-right: 1em; text-align: center; vertical-align: top\">0</td>\n",
       "    </tr>\n",
       "    <tr>\n",
       "        <td style=\"padding-left: 1em; padding-right: 1em; text-align: center; vertical-align: top\">3793500160</td>\n",
       "        <td style=\"padding-left: 1em; padding-right: 1em; text-align: center; vertical-align: top\">2015-03-12 00:00:00+00:00</td>\n",
       "        <td style=\"padding-left: 1em; padding-right: 1em; text-align: center; vertical-align: top\">323000.0</td>\n",
       "        <td style=\"padding-left: 1em; padding-right: 1em; text-align: center; vertical-align: top\">3.0</td>\n",
       "        <td style=\"padding-left: 1em; padding-right: 1em; text-align: center; vertical-align: top\">2.5</td>\n",
       "        <td style=\"padding-left: 1em; padding-right: 1em; text-align: center; vertical-align: top\">1890.0</td>\n",
       "        <td style=\"padding-left: 1em; padding-right: 1em; text-align: center; vertical-align: top\">6560</td>\n",
       "        <td style=\"padding-left: 1em; padding-right: 1em; text-align: center; vertical-align: top\">2</td>\n",
       "        <td style=\"padding-left: 1em; padding-right: 1em; text-align: center; vertical-align: top\">0</td>\n",
       "    </tr>\n",
       "</table>\n",
       "<table frame=\"box\" rules=\"cols\">\n",
       "    <tr>\n",
       "        <th style=\"padding-left: 1em; padding-right: 1em; text-align: center\">view</th>\n",
       "        <th style=\"padding-left: 1em; padding-right: 1em; text-align: center\">condition</th>\n",
       "        <th style=\"padding-left: 1em; padding-right: 1em; text-align: center\">grade</th>\n",
       "        <th style=\"padding-left: 1em; padding-right: 1em; text-align: center\">sqft_above</th>\n",
       "        <th style=\"padding-left: 1em; padding-right: 1em; text-align: center\">sqft_basement</th>\n",
       "        <th style=\"padding-left: 1em; padding-right: 1em; text-align: center\">yr_built</th>\n",
       "        <th style=\"padding-left: 1em; padding-right: 1em; text-align: center\">yr_renovated</th>\n",
       "        <th style=\"padding-left: 1em; padding-right: 1em; text-align: center\">zipcode</th>\n",
       "        <th style=\"padding-left: 1em; padding-right: 1em; text-align: center\">lat</th>\n",
       "    </tr>\n",
       "    <tr>\n",
       "        <td style=\"padding-left: 1em; padding-right: 1em; text-align: center; vertical-align: top\">0</td>\n",
       "        <td style=\"padding-left: 1em; padding-right: 1em; text-align: center; vertical-align: top\">3</td>\n",
       "        <td style=\"padding-left: 1em; padding-right: 1em; text-align: center; vertical-align: top\">7</td>\n",
       "        <td style=\"padding-left: 1em; padding-right: 1em; text-align: center; vertical-align: top\">1180</td>\n",
       "        <td style=\"padding-left: 1em; padding-right: 1em; text-align: center; vertical-align: top\">0</td>\n",
       "        <td style=\"padding-left: 1em; padding-right: 1em; text-align: center; vertical-align: top\">1955</td>\n",
       "        <td style=\"padding-left: 1em; padding-right: 1em; text-align: center; vertical-align: top\">0</td>\n",
       "        <td style=\"padding-left: 1em; padding-right: 1em; text-align: center; vertical-align: top\">98178</td>\n",
       "        <td style=\"padding-left: 1em; padding-right: 1em; text-align: center; vertical-align: top\">47.51123398</td>\n",
       "    </tr>\n",
       "    <tr>\n",
       "        <td style=\"padding-left: 1em; padding-right: 1em; text-align: center; vertical-align: top\">0</td>\n",
       "        <td style=\"padding-left: 1em; padding-right: 1em; text-align: center; vertical-align: top\">3</td>\n",
       "        <td style=\"padding-left: 1em; padding-right: 1em; text-align: center; vertical-align: top\">7</td>\n",
       "        <td style=\"padding-left: 1em; padding-right: 1em; text-align: center; vertical-align: top\">2170</td>\n",
       "        <td style=\"padding-left: 1em; padding-right: 1em; text-align: center; vertical-align: top\">400</td>\n",
       "        <td style=\"padding-left: 1em; padding-right: 1em; text-align: center; vertical-align: top\">1951</td>\n",
       "        <td style=\"padding-left: 1em; padding-right: 1em; text-align: center; vertical-align: top\">1991</td>\n",
       "        <td style=\"padding-left: 1em; padding-right: 1em; text-align: center; vertical-align: top\">98125</td>\n",
       "        <td style=\"padding-left: 1em; padding-right: 1em; text-align: center; vertical-align: top\">47.72102274</td>\n",
       "    </tr>\n",
       "    <tr>\n",
       "        <td style=\"padding-left: 1em; padding-right: 1em; text-align: center; vertical-align: top\">0</td>\n",
       "        <td style=\"padding-left: 1em; padding-right: 1em; text-align: center; vertical-align: top\">3</td>\n",
       "        <td style=\"padding-left: 1em; padding-right: 1em; text-align: center; vertical-align: top\">6</td>\n",
       "        <td style=\"padding-left: 1em; padding-right: 1em; text-align: center; vertical-align: top\">770</td>\n",
       "        <td style=\"padding-left: 1em; padding-right: 1em; text-align: center; vertical-align: top\">0</td>\n",
       "        <td style=\"padding-left: 1em; padding-right: 1em; text-align: center; vertical-align: top\">1933</td>\n",
       "        <td style=\"padding-left: 1em; padding-right: 1em; text-align: center; vertical-align: top\">0</td>\n",
       "        <td style=\"padding-left: 1em; padding-right: 1em; text-align: center; vertical-align: top\">98028</td>\n",
       "        <td style=\"padding-left: 1em; padding-right: 1em; text-align: center; vertical-align: top\">47.73792661</td>\n",
       "    </tr>\n",
       "    <tr>\n",
       "        <td style=\"padding-left: 1em; padding-right: 1em; text-align: center; vertical-align: top\">0</td>\n",
       "        <td style=\"padding-left: 1em; padding-right: 1em; text-align: center; vertical-align: top\">5</td>\n",
       "        <td style=\"padding-left: 1em; padding-right: 1em; text-align: center; vertical-align: top\">7</td>\n",
       "        <td style=\"padding-left: 1em; padding-right: 1em; text-align: center; vertical-align: top\">1050</td>\n",
       "        <td style=\"padding-left: 1em; padding-right: 1em; text-align: center; vertical-align: top\">910</td>\n",
       "        <td style=\"padding-left: 1em; padding-right: 1em; text-align: center; vertical-align: top\">1965</td>\n",
       "        <td style=\"padding-left: 1em; padding-right: 1em; text-align: center; vertical-align: top\">0</td>\n",
       "        <td style=\"padding-left: 1em; padding-right: 1em; text-align: center; vertical-align: top\">98136</td>\n",
       "        <td style=\"padding-left: 1em; padding-right: 1em; text-align: center; vertical-align: top\">47.52082</td>\n",
       "    </tr>\n",
       "    <tr>\n",
       "        <td style=\"padding-left: 1em; padding-right: 1em; text-align: center; vertical-align: top\">0</td>\n",
       "        <td style=\"padding-left: 1em; padding-right: 1em; text-align: center; vertical-align: top\">3</td>\n",
       "        <td style=\"padding-left: 1em; padding-right: 1em; text-align: center; vertical-align: top\">8</td>\n",
       "        <td style=\"padding-left: 1em; padding-right: 1em; text-align: center; vertical-align: top\">1680</td>\n",
       "        <td style=\"padding-left: 1em; padding-right: 1em; text-align: center; vertical-align: top\">0</td>\n",
       "        <td style=\"padding-left: 1em; padding-right: 1em; text-align: center; vertical-align: top\">1987</td>\n",
       "        <td style=\"padding-left: 1em; padding-right: 1em; text-align: center; vertical-align: top\">0</td>\n",
       "        <td style=\"padding-left: 1em; padding-right: 1em; text-align: center; vertical-align: top\">98074</td>\n",
       "        <td style=\"padding-left: 1em; padding-right: 1em; text-align: center; vertical-align: top\">47.61681228</td>\n",
       "    </tr>\n",
       "    <tr>\n",
       "        <td style=\"padding-left: 1em; padding-right: 1em; text-align: center; vertical-align: top\">0</td>\n",
       "        <td style=\"padding-left: 1em; padding-right: 1em; text-align: center; vertical-align: top\">3</td>\n",
       "        <td style=\"padding-left: 1em; padding-right: 1em; text-align: center; vertical-align: top\">11</td>\n",
       "        <td style=\"padding-left: 1em; padding-right: 1em; text-align: center; vertical-align: top\">3890</td>\n",
       "        <td style=\"padding-left: 1em; padding-right: 1em; text-align: center; vertical-align: top\">1530</td>\n",
       "        <td style=\"padding-left: 1em; padding-right: 1em; text-align: center; vertical-align: top\">2001</td>\n",
       "        <td style=\"padding-left: 1em; padding-right: 1em; text-align: center; vertical-align: top\">0</td>\n",
       "        <td style=\"padding-left: 1em; padding-right: 1em; text-align: center; vertical-align: top\">98053</td>\n",
       "        <td style=\"padding-left: 1em; padding-right: 1em; text-align: center; vertical-align: top\">47.65611835</td>\n",
       "    </tr>\n",
       "    <tr>\n",
       "        <td style=\"padding-left: 1em; padding-right: 1em; text-align: center; vertical-align: top\">0</td>\n",
       "        <td style=\"padding-left: 1em; padding-right: 1em; text-align: center; vertical-align: top\">3</td>\n",
       "        <td style=\"padding-left: 1em; padding-right: 1em; text-align: center; vertical-align: top\">7</td>\n",
       "        <td style=\"padding-left: 1em; padding-right: 1em; text-align: center; vertical-align: top\">1715</td>\n",
       "        <td style=\"padding-left: 1em; padding-right: 1em; text-align: center; vertical-align: top\">0</td>\n",
       "        <td style=\"padding-left: 1em; padding-right: 1em; text-align: center; vertical-align: top\">1995</td>\n",
       "        <td style=\"padding-left: 1em; padding-right: 1em; text-align: center; vertical-align: top\">0</td>\n",
       "        <td style=\"padding-left: 1em; padding-right: 1em; text-align: center; vertical-align: top\">98003</td>\n",
       "        <td style=\"padding-left: 1em; padding-right: 1em; text-align: center; vertical-align: top\">47.30972002</td>\n",
       "    </tr>\n",
       "    <tr>\n",
       "        <td style=\"padding-left: 1em; padding-right: 1em; text-align: center; vertical-align: top\">0</td>\n",
       "        <td style=\"padding-left: 1em; padding-right: 1em; text-align: center; vertical-align: top\">3</td>\n",
       "        <td style=\"padding-left: 1em; padding-right: 1em; text-align: center; vertical-align: top\">7</td>\n",
       "        <td style=\"padding-left: 1em; padding-right: 1em; text-align: center; vertical-align: top\">1060</td>\n",
       "        <td style=\"padding-left: 1em; padding-right: 1em; text-align: center; vertical-align: top\">0</td>\n",
       "        <td style=\"padding-left: 1em; padding-right: 1em; text-align: center; vertical-align: top\">1963</td>\n",
       "        <td style=\"padding-left: 1em; padding-right: 1em; text-align: center; vertical-align: top\">0</td>\n",
       "        <td style=\"padding-left: 1em; padding-right: 1em; text-align: center; vertical-align: top\">98198</td>\n",
       "        <td style=\"padding-left: 1em; padding-right: 1em; text-align: center; vertical-align: top\">47.40949984</td>\n",
       "    </tr>\n",
       "    <tr>\n",
       "        <td style=\"padding-left: 1em; padding-right: 1em; text-align: center; vertical-align: top\">0</td>\n",
       "        <td style=\"padding-left: 1em; padding-right: 1em; text-align: center; vertical-align: top\">3</td>\n",
       "        <td style=\"padding-left: 1em; padding-right: 1em; text-align: center; vertical-align: top\">7</td>\n",
       "        <td style=\"padding-left: 1em; padding-right: 1em; text-align: center; vertical-align: top\">1050</td>\n",
       "        <td style=\"padding-left: 1em; padding-right: 1em; text-align: center; vertical-align: top\">730</td>\n",
       "        <td style=\"padding-left: 1em; padding-right: 1em; text-align: center; vertical-align: top\">1960</td>\n",
       "        <td style=\"padding-left: 1em; padding-right: 1em; text-align: center; vertical-align: top\">0</td>\n",
       "        <td style=\"padding-left: 1em; padding-right: 1em; text-align: center; vertical-align: top\">98146</td>\n",
       "        <td style=\"padding-left: 1em; padding-right: 1em; text-align: center; vertical-align: top\">47.51229381</td>\n",
       "    </tr>\n",
       "    <tr>\n",
       "        <td style=\"padding-left: 1em; padding-right: 1em; text-align: center; vertical-align: top\">0</td>\n",
       "        <td style=\"padding-left: 1em; padding-right: 1em; text-align: center; vertical-align: top\">3</td>\n",
       "        <td style=\"padding-left: 1em; padding-right: 1em; text-align: center; vertical-align: top\">7</td>\n",
       "        <td style=\"padding-left: 1em; padding-right: 1em; text-align: center; vertical-align: top\">1890</td>\n",
       "        <td style=\"padding-left: 1em; padding-right: 1em; text-align: center; vertical-align: top\">0</td>\n",
       "        <td style=\"padding-left: 1em; padding-right: 1em; text-align: center; vertical-align: top\">2003</td>\n",
       "        <td style=\"padding-left: 1em; padding-right: 1em; text-align: center; vertical-align: top\">0</td>\n",
       "        <td style=\"padding-left: 1em; padding-right: 1em; text-align: center; vertical-align: top\">98038</td>\n",
       "        <td style=\"padding-left: 1em; padding-right: 1em; text-align: center; vertical-align: top\">47.36840673</td>\n",
       "    </tr>\n",
       "</table>\n",
       "<table frame=\"box\" rules=\"cols\">\n",
       "    <tr>\n",
       "        <th style=\"padding-left: 1em; padding-right: 1em; text-align: center\">long</th>\n",
       "        <th style=\"padding-left: 1em; padding-right: 1em; text-align: center\">sqft_living15</th>\n",
       "        <th style=\"padding-left: 1em; padding-right: 1em; text-align: center\">sqft_lot15</th>\n",
       "    </tr>\n",
       "    <tr>\n",
       "        <td style=\"padding-left: 1em; padding-right: 1em; text-align: center; vertical-align: top\">-122.25677536</td>\n",
       "        <td style=\"padding-left: 1em; padding-right: 1em; text-align: center; vertical-align: top\">1340.0</td>\n",
       "        <td style=\"padding-left: 1em; padding-right: 1em; text-align: center; vertical-align: top\">5650.0</td>\n",
       "    </tr>\n",
       "    <tr>\n",
       "        <td style=\"padding-left: 1em; padding-right: 1em; text-align: center; vertical-align: top\">-122.3188624</td>\n",
       "        <td style=\"padding-left: 1em; padding-right: 1em; text-align: center; vertical-align: top\">1690.0</td>\n",
       "        <td style=\"padding-left: 1em; padding-right: 1em; text-align: center; vertical-align: top\">7639.0</td>\n",
       "    </tr>\n",
       "    <tr>\n",
       "        <td style=\"padding-left: 1em; padding-right: 1em; text-align: center; vertical-align: top\">-122.23319601</td>\n",
       "        <td style=\"padding-left: 1em; padding-right: 1em; text-align: center; vertical-align: top\">2720.0</td>\n",
       "        <td style=\"padding-left: 1em; padding-right: 1em; text-align: center; vertical-align: top\">8062.0</td>\n",
       "    </tr>\n",
       "    <tr>\n",
       "        <td style=\"padding-left: 1em; padding-right: 1em; text-align: center; vertical-align: top\">-122.39318505</td>\n",
       "        <td style=\"padding-left: 1em; padding-right: 1em; text-align: center; vertical-align: top\">1360.0</td>\n",
       "        <td style=\"padding-left: 1em; padding-right: 1em; text-align: center; vertical-align: top\">5000.0</td>\n",
       "    </tr>\n",
       "    <tr>\n",
       "        <td style=\"padding-left: 1em; padding-right: 1em; text-align: center; vertical-align: top\">-122.04490059</td>\n",
       "        <td style=\"padding-left: 1em; padding-right: 1em; text-align: center; vertical-align: top\">1800.0</td>\n",
       "        <td style=\"padding-left: 1em; padding-right: 1em; text-align: center; vertical-align: top\">7503.0</td>\n",
       "    </tr>\n",
       "    <tr>\n",
       "        <td style=\"padding-left: 1em; padding-right: 1em; text-align: center; vertical-align: top\">-122.00528655</td>\n",
       "        <td style=\"padding-left: 1em; padding-right: 1em; text-align: center; vertical-align: top\">4760.0</td>\n",
       "        <td style=\"padding-left: 1em; padding-right: 1em; text-align: center; vertical-align: top\">101930.0</td>\n",
       "    </tr>\n",
       "    <tr>\n",
       "        <td style=\"padding-left: 1em; padding-right: 1em; text-align: center; vertical-align: top\">-122.32704857</td>\n",
       "        <td style=\"padding-left: 1em; padding-right: 1em; text-align: center; vertical-align: top\">2238.0</td>\n",
       "        <td style=\"padding-left: 1em; padding-right: 1em; text-align: center; vertical-align: top\">6819.0</td>\n",
       "    </tr>\n",
       "    <tr>\n",
       "        <td style=\"padding-left: 1em; padding-right: 1em; text-align: center; vertical-align: top\">-122.31457273</td>\n",
       "        <td style=\"padding-left: 1em; padding-right: 1em; text-align: center; vertical-align: top\">1650.0</td>\n",
       "        <td style=\"padding-left: 1em; padding-right: 1em; text-align: center; vertical-align: top\">9711.0</td>\n",
       "    </tr>\n",
       "    <tr>\n",
       "        <td style=\"padding-left: 1em; padding-right: 1em; text-align: center; vertical-align: top\">-122.33659507</td>\n",
       "        <td style=\"padding-left: 1em; padding-right: 1em; text-align: center; vertical-align: top\">1780.0</td>\n",
       "        <td style=\"padding-left: 1em; padding-right: 1em; text-align: center; vertical-align: top\">8113.0</td>\n",
       "    </tr>\n",
       "    <tr>\n",
       "        <td style=\"padding-left: 1em; padding-right: 1em; text-align: center; vertical-align: top\">-122.0308176</td>\n",
       "        <td style=\"padding-left: 1em; padding-right: 1em; text-align: center; vertical-align: top\">2390.0</td>\n",
       "        <td style=\"padding-left: 1em; padding-right: 1em; text-align: center; vertical-align: top\">7570.0</td>\n",
       "    </tr>\n",
       "</table>\n",
       "[? rows x 21 columns]<br/>Note: Only the head of the SFrame is printed. This SFrame is lazily evaluated.<br/>You can use sf.materialize() to force materialization.\n",
       "</div>"
      ],
      "text/plain": [
       "Columns:\n",
       "\tid\tstr\n",
       "\tdate\tdatetime\n",
       "\tprice\tfloat\n",
       "\tbedrooms\tfloat\n",
       "\tbathrooms\tfloat\n",
       "\tsqft_living\tfloat\n",
       "\tsqft_lot\tint\n",
       "\tfloors\tstr\n",
       "\twaterfront\tint\n",
       "\tview\tint\n",
       "\tcondition\tint\n",
       "\tgrade\tint\n",
       "\tsqft_above\tint\n",
       "\tsqft_basement\tint\n",
       "\tyr_built\tint\n",
       "\tyr_renovated\tint\n",
       "\tzipcode\tstr\n",
       "\tlat\tfloat\n",
       "\tlong\tfloat\n",
       "\tsqft_living15\tfloat\n",
       "\tsqft_lot15\tfloat\n",
       "\n",
       "Rows: Unknown\n",
       "\n",
       "Data:\n",
       "+------------+---------------------------+-----------+----------+-----------+\n",
       "|     id     |            date           |   price   | bedrooms | bathrooms |\n",
       "+------------+---------------------------+-----------+----------+-----------+\n",
       "| 7129300520 | 2014-10-13 00:00:00+00:00 |  221900.0 |   3.0    |    1.0    |\n",
       "| 6414100192 | 2014-12-09 00:00:00+00:00 |  538000.0 |   3.0    |    2.25   |\n",
       "| 5631500400 | 2015-02-25 00:00:00+00:00 |  180000.0 |   2.0    |    1.0    |\n",
       "| 2487200875 | 2014-12-09 00:00:00+00:00 |  604000.0 |   4.0    |    3.0    |\n",
       "| 1954400510 | 2015-02-18 00:00:00+00:00 |  510000.0 |   3.0    |    2.0    |\n",
       "| 7237550310 | 2014-05-12 00:00:00+00:00 | 1225000.0 |   4.0    |    4.5    |\n",
       "| 1321400060 | 2014-06-27 00:00:00+00:00 |  257500.0 |   3.0    |    2.25   |\n",
       "| 2008000270 | 2015-01-15 00:00:00+00:00 |  291850.0 |   3.0    |    1.5    |\n",
       "| 2414600126 | 2015-04-15 00:00:00+00:00 |  229500.0 |   3.0    |    1.0    |\n",
       "| 3793500160 | 2015-03-12 00:00:00+00:00 |  323000.0 |   3.0    |    2.5    |\n",
       "+------------+---------------------------+-----------+----------+-----------+\n",
       "+-------------+----------+--------+------------+------+-----------+-------+------------+\n",
       "| sqft_living | sqft_lot | floors | waterfront | view | condition | grade | sqft_above |\n",
       "+-------------+----------+--------+------------+------+-----------+-------+------------+\n",
       "|    1180.0   |   5650   |   1    |     0      |  0   |     3     |   7   |    1180    |\n",
       "|    2570.0   |   7242   |   2    |     0      |  0   |     3     |   7   |    2170    |\n",
       "|    770.0    |  10000   |   1    |     0      |  0   |     3     |   6   |    770     |\n",
       "|    1960.0   |   5000   |   1    |     0      |  0   |     5     |   7   |    1050    |\n",
       "|    1680.0   |   8080   |   1    |     0      |  0   |     3     |   8   |    1680    |\n",
       "|    5420.0   |  101930  |   1    |     0      |  0   |     3     |   11  |    3890    |\n",
       "|    1715.0   |   6819   |   2    |     0      |  0   |     3     |   7   |    1715    |\n",
       "|    1060.0   |   9711   |   1    |     0      |  0   |     3     |   7   |    1060    |\n",
       "|    1780.0   |   7470   |   1    |     0      |  0   |     3     |   7   |    1050    |\n",
       "|    1890.0   |   6560   |   2    |     0      |  0   |     3     |   7   |    1890    |\n",
       "+-------------+----------+--------+------------+------+-----------+-------+------------+\n",
       "+---------------+----------+--------------+---------+-------------+\n",
       "| sqft_basement | yr_built | yr_renovated | zipcode |     lat     |\n",
       "+---------------+----------+--------------+---------+-------------+\n",
       "|       0       |   1955   |      0       |  98178  | 47.51123398 |\n",
       "|      400      |   1951   |     1991     |  98125  | 47.72102274 |\n",
       "|       0       |   1933   |      0       |  98028  | 47.73792661 |\n",
       "|      910      |   1965   |      0       |  98136  |   47.52082  |\n",
       "|       0       |   1987   |      0       |  98074  | 47.61681228 |\n",
       "|      1530     |   2001   |      0       |  98053  | 47.65611835 |\n",
       "|       0       |   1995   |      0       |  98003  | 47.30972002 |\n",
       "|       0       |   1963   |      0       |  98198  | 47.40949984 |\n",
       "|      730      |   1960   |      0       |  98146  | 47.51229381 |\n",
       "|       0       |   2003   |      0       |  98038  | 47.36840673 |\n",
       "+---------------+----------+--------------+---------+-------------+\n",
       "+---------------+---------------+-----+\n",
       "|      long     | sqft_living15 | ... |\n",
       "+---------------+---------------+-----+\n",
       "| -122.25677536 |     1340.0    | ... |\n",
       "|  -122.3188624 |     1690.0    | ... |\n",
       "| -122.23319601 |     2720.0    | ... |\n",
       "| -122.39318505 |     1360.0    | ... |\n",
       "| -122.04490059 |     1800.0    | ... |\n",
       "| -122.00528655 |     4760.0    | ... |\n",
       "| -122.32704857 |     2238.0    | ... |\n",
       "| -122.31457273 |     1650.0    | ... |\n",
       "| -122.33659507 |     1780.0    | ... |\n",
       "|  -122.0308176 |     2390.0    | ... |\n",
       "+---------------+---------------+-----+\n",
       "[? rows x 21 columns]\n",
       "Note: Only the head of the SFrame is printed. This SFrame is lazily evaluated.\n",
       "You can use sf.materialize() to force materialization."
      ]
     },
     "execution_count": 12,
     "metadata": {},
     "output_type": "execute_result"
    }
   ],
   "source": [
    "train_data"
   ]
  },
  {
   "cell_type": "markdown",
   "metadata": {},
   "source": [
    "# Build a generic simple linear regression function "
   ]
  },
  {
   "cell_type": "markdown",
   "metadata": {},
   "source": [
    "Armed with these SArray functions we can use the closed form solution found from lecture to compute the slope and intercept for a simple linear regression on observations stored as SArrays: input_feature, output.\n",
    "\n",
    "Complete the following function (or write your own) to compute the simple linear regression slope and intercept:"
   ]
  },
  {
   "cell_type": "code",
   "execution_count": 13,
   "metadata": {},
   "outputs": [],
   "source": [
    "def simple_linear_regression(input_feature, output):\n",
    "    \n",
    "    size = gl.SArray(input_feature).size()\n",
    "    \n",
    "    if(debug) :\n",
    "        print(\"----------------------------------------------------------\")\n",
    "        print(\"  DEBUG: simple_linear_regression()\")\n",
    "        print(\"----------------------------------------------------------\")\n",
    "        print(\"Function parameters:\")\n",
    "        print(\"  Vector X             : \") + str(input_feature)\n",
    "        print(\"  Vector Y             : \") + str(output)\n",
    "        print(\"  Vector length        : \") + str(size) + \"\\n\"\n",
    "\n",
    "    # compute the sum of input_feature and output\n",
    "    sum_in = gl.SArray(input_feature).sum()\n",
    "    sum_out = gl.SArray(output).sum()\n",
    "    \n",
    "    if(debug) :\n",
    "        print(\"Intermediate calculations of the regression slope and intercept:\")\n",
    "        print(\"  Summation of X       : \" + str(sum_in))\n",
    "        print(\"  Summation of Y       : \" + str(sum_out))\n",
    "    \n",
    "    # compute the product of the output and the input_feature and its sum\n",
    "    product_of_in_out = (input_feature * output)\n",
    "    sum_of_product_of_in_out = product_of_in_out.sum()\n",
    "    \n",
    "    if(debug) :\n",
    "        print(\"  X * Y                : \") + str(product_of_in_out)\n",
    "        print(\"  Summation of [X * Y] : \") + str(sum_of_product_of_in_out)\n",
    "    \n",
    "    # compute the squared value of the input_feature and its sum\n",
    "    square_of_in = gl.SArray() \n",
    "    square_of_in = input_feature ** 2\n",
    "    sum_of_square_of_in = gl.SArray(square_of_in).sum()\n",
    "    sum_in_squared = sum_in ** 2\n",
    "    \n",
    "    if(debug) :\n",
    "        print(\"  [X]^2                : \") + str(square_of_in)\n",
    "        print(\"  Summation ([X]^2)    : \") + str(sum_of_square_of_in)\n",
    "        print(\"  (Summation X)^2      : \") + str(sum_in_squared) + \"\\n\"\n",
    "                    \n",
    "    # use the formula for the slope\n",
    "    slope_numerator = sum_of_product_of_in_out - ((1.0 / size) * (sum_in * sum_out))\n",
    "    slope_denominator = sum_of_square_of_in - ((1.0 / size) * (sum_in_squared))\n",
    "    \n",
    "    if(debug) :\n",
    "        print(\"  Compute the slope as : \") + str(slope_numerator) + \" / \" + str(slope_denominator) + \"\\n\"\n",
    "    \n",
    "    slope = slope_numerator / slope_denominator\n",
    "    \n",
    "    if(debug) :\n",
    "        print(\"SLOPE     : \") + str(slope)\n",
    "    \n",
    "    # use the formula for the intercept\n",
    "    intercept = (sum_out / size) - (slope * ((sum_in / size)))\n",
    "    \n",
    "    if(debug) :\n",
    "        print(\"INTERCEPT : \") + str(intercept)\n",
    "        print(\"----------------------------------------------------------\") + \"\\n\"\n",
    "\n",
    "    return (intercept, slope)"
   ]
  },
  {
   "cell_type": "code",
   "execution_count": 14,
   "metadata": {},
   "outputs": [
    {
     "name": "stdout",
     "output_type": "stream",
     "text": [
      "----------------------------------------------------------\n",
      "  DEBUG: simple_linear_regression()\n",
      "----------------------------------------------------------\n",
      "Function parameters:\n",
      "  Vector X             : [0, 1, 2, 3, 4]\n",
      "  Vector Y             : [1, 3, 7, 13, 21]\n",
      "  Vector length        : 5\n",
      "\n",
      "Intermediate calculations of the regression slope and intercept:\n",
      "  Summation of X       : 10\n",
      "  Summation of Y       : 45\n",
      "  X * Y                : [0, 3, 14, 39, 84]\n",
      "  Summation of [X * Y] : 140\n",
      "  [X]^2                : [0.0, 1.0, 4.0, 9.0, 16.0]\n",
      "  Summation ([X]^2)    : 30.0\n",
      "  (Summation X)^2      : 100\n",
      "\n",
      "  Compute the slope as : 50.0 / 10.0\n",
      "\n",
      "SLOPE     : 5.0\n",
      "INTERCEPT : -1.0\n",
      "----------------------------------------------------------\n",
      "\n"
     ]
    }
   ],
   "source": [
    "X = graphlab.SArray([0, 1, 2, 3, 4])\n",
    "Y = graphlab.SArray([1, 3, 7, 13, 21])\n",
    "\n",
    "(test_intercept, test_slope) = simple_linear_regression(X, Y)"
   ]
  },
  {
   "cell_type": "markdown",
   "metadata": {},
   "source": [
    "We can test that our function works by passing it something where we know the answer. In particular we can generate a feature and then put the output exactly on a line: output = 1 + 1\\*input_feature then we know both our slope and intercept should be 1"
   ]
  },
  {
   "cell_type": "code",
   "execution_count": 15,
   "metadata": {
    "scrolled": true
   },
   "outputs": [
    {
     "name": "stdout",
     "output_type": "stream",
     "text": [
      "----------------------------------------------------------\n",
      "  DEBUG: simple_linear_regression()\n",
      "----------------------------------------------------------\n",
      "Function parameters:\n",
      "  Vector X             : [0, 1, 2, 3, 4]\n",
      "  Vector Y             : [1, 2, 3, 4, 5]\n",
      "  Vector length        : 5\n",
      "\n",
      "Intermediate calculations of the regression slope and intercept:\n",
      "  Summation of X       : 10\n",
      "  Summation of Y       : 15\n",
      "  X * Y                : [0, 2, 6, 12, 20]\n",
      "  Summation of [X * Y] : 40\n",
      "  [X]^2                : [0.0, 1.0, 4.0, 9.0, 16.0]\n",
      "  Summation ([X]^2)    : 30.0\n",
      "  (Summation X)^2      : 100\n",
      "\n",
      "  Compute the slope as : 10.0 / 10.0\n",
      "\n",
      "SLOPE     : 1.0\n",
      "INTERCEPT : 1.0\n",
      "----------------------------------------------------------\n",
      "\n",
      "Intercept: 1.0\n",
      "Slope: 1.0\n"
     ]
    }
   ],
   "source": [
    "test_feature = graphlab.SArray(range(5))\n",
    "test_output = graphlab.SArray(1 + 1*test_feature)\n",
    "(test_intercept, test_slope) =  simple_linear_regression(test_feature, test_output)\n",
    "print \"Intercept: \" + str(test_intercept)\n",
    "print \"Slope: \" + str(test_slope)"
   ]
  },
  {
   "cell_type": "markdown",
   "metadata": {},
   "source": [
    "Now that we know it works let's build a regression model for predicting price based on sqft_living. Rembember that we train on train_data!"
   ]
  },
  {
   "cell_type": "code",
   "execution_count": 16,
   "metadata": {},
   "outputs": [
    {
     "name": "stdout",
     "output_type": "stream",
     "text": [
      "----------------------------------------------------------\n",
      "  DEBUG: simple_linear_regression()\n",
      "----------------------------------------------------------\n",
      "Function parameters:\n",
      "  Vector X             : [1180.0, 2570.0, 770.0, 1960.0, 1680.0, 5420.0, 1715.0, 1060.0, 1780.0, 1890.0, 3560.0, 1160.0, 1370.0, 1810.0, 1890.0, 1600.0, 1200.0, 1250.0, 1620.0, 3050.0, 2270.0, 1070.0, 2450.0, 2450.0, 1400.0, 1520.0, 2570.0, 1190.0, 2330.0, 2060.0, 2300.0, 1660.0, 2360.0, 1220.0, 2570.0, 3595.0, 1570.0, 1280.0, 3160.0, 990.0, 2290.0, 1250.0, 2753.0, 1190.0, 3150.0, 1410.0, 1980.0, 2730.0, 2830.0, 2420.0, 3250.0, 1850.0, 2150.0, 2519.0, 1540.0, 1660.0, 2770.0, 2720.0, 2240.0, 1000.0, 3200.0, 4770.0, 1260.0, 2380.0, 3430.0, 1760.0, 1040.0, 1410.0, 3450.0, 2350.0, 2020.0, 1680.0, 960.0, 2140.0, 2660.0, 2770.0, 1610.0, 1030.0, 3520.0, 1200.0, 1580.0, 1580.0, 3300.0, 1160.0, 1810.0, 2320.0, 2070.0, 1980.0, 2190.0, 2920.0, 1210.0, 2340.0, 1670.0, 1240.0, 3140.0, 2310.0, 1260.0, 1540.0, 2080.0, 4380.0, ... ]\n",
      "  Vector Y             : [221900.0, 538000.0, 180000.0, 604000.0, 510000.0, 1225000.0, 257500.0, 291850.0, 229500.0, 323000.0, 662500.0, 468000.0, 400000.0, 530000.0, 395000.0, 485000.0, 189000.0, 230000.0, 385000.0, 2000000.0, 285000.0, 252700.0, 329000.0, 937000.0, 667000.0, 438000.0, 719000.0, 280000.0, 687500.0, 322500.0, 696000.0, 550000.0, 640000.0, 240000.0, 625000.0, 861990.0, 685000.0, 309000.0, 488000.0, 210490.0, 785000.0, 450000.0, 1350000.0, 228000.0, 345000.0, 600000.0, 585000.0, 920000.0, 885000.0, 301000.0, 951000.0, 430000.0, 650000.0, 505000.0, 549000.0, 425000.0, 317625.0, 975000.0, 287000.0, 204000.0, 1325000.0, 1040000.0, 325000.0, 360000.0, 832500.0, 380000.0, 480000.0, 410000.0, 720000.0, 390000.0, 355000.0, 356000.0, 315000.0, 940000.0, 305000.0, 461000.0, 215000.0, 335000.0, 1099880.0, 153000.0, 430000.0, 700000.0, 905000.0, 199000.0, 314000.0, 437500.0, 850830.0, 555000.0, 699950.0, 1088000.0, 290000.0, 375000.0, 460000.0, 188500.0, 680000.0, 597750.0, 570000.0, 272500.0, 329950.0, 740500.0, ... ]\n",
      "  Vector length        : 17384\n",
      "\n",
      "Intermediate calculations of the regression slope and intercept:\n",
      "  Summation of X       : 36159233.0\n",
      "  Summation of Y       : 9376349465.0\n",
      "  X * Y                : [261842000.0, 1382660000.0, 138600000.0, 1183840000.0, 856800000.0, 6639500000.0, 441612500.0, 309361000.0, 408510000.0, 610470000.0, 2358500000.0, 542880000.0, 548000000.0, 959300000.0, 746550000.0, 776000000.0, 226800000.0, 287500000.0, 623700000.0, 6100000000.0, 646950000.0, 270389000.0, 806050000.0, 2295650000.0, 933800000.0, 665760000.0, 1847830000.0, 333200000.0, 1601875000.0, 664350000.0, 1600800000.0, 913000000.0, 1510400000.0, 292800000.0, 1606250000.0, 3098854050.0, 1075450000.0, 395520000.0, 1542080000.0, 208385100.0, 1797650000.0, 562500000.0, 3716550000.0, 271320000.0, 1086750000.0, 846000000.0, 1158300000.0, 2511600000.0, 2504550000.0, 728420000.0, 3090750000.0, 795500000.0, 1397500000.0, 1272095000.0, 845460000.0, 705500000.0, 879821250.0, 2652000000.0, 642880000.0, 204000000.0, 4240000000.0, 4960800000.0, 409500000.0, 856800000.0, 2855475000.0, 668800000.0, 499200000.0, 578100000.0, 2484000000.0, 916500000.0, 717100000.0, 598080000.0, 302400000.0, 2011600000.0, 811300000.0, 1276970000.0, 346150000.0, 345050000.0, 3871577600.0, 183600000.0, 679400000.0, 1106000000.0, 2986500000.0, 230840000.0, 568340000.0, 1015000000.0, 1761218100.0, 1098900000.0, 1532890500.0, 3176960000.0, 350900000.0, 877500000.0, 768200000.0, 233740000.0, 2135200000.0, 1380802500.0, 718200000.0, 419650000.0, 686296000.0, 3243390000.0, ... ]\n",
      "  Summation of [X * Y] : 2.36662568479e+13\n",
      "  [X]^2                : [1392400.0, 6604900.0, 592900.0, 3841600.0, 2822400.0, 29376400.0, 2941225.0, 1123600.0, 3168400.0, 3572100.0, 12673600.0, 1345600.0, 1876900.0, 3276100.0, 3572100.0, 2560000.0, 1440000.0, 1562500.0, 2624400.0, 9302500.0, 5152900.0, 1144900.0, 6002500.0, 6002500.0, 1960000.0, 2310400.0, 6604900.0, 1416100.0, 5428900.0, 4243600.0, 5290000.0, 2755600.0, 5569600.0, 1488400.0, 6604900.0, 12924025.0, 2464900.0, 1638400.0, 9985600.0, 980100.0, 5244100.0, 1562500.0, 7579009.0, 1416100.0, 9922500.0, 1988100.0, 3920400.0, 7452900.0, 8008900.0, 5856400.0, 10562500.0, 3422500.0, 4622500.0, 6345361.0, 2371600.0, 2755600.0, 7672900.0, 7398400.0, 5017600.0, 1000000.0, 10240000.0, 22752900.0, 1587600.0, 5664400.0, 11764900.0, 3097600.0, 1081600.0, 1988100.0, 11902500.0, 5522500.0, 4080400.0, 2822400.0, 921600.0, 4579600.0, 7075600.0, 7672900.0, 2592100.0, 1060900.0, 12390400.0, 1440000.0, 2496400.0, 2496400.0, 10890000.0, 1345600.0, 3276100.0, 5382400.0, 4284900.0, 3920400.0, 4796100.0, 8526400.0, 1464100.0, 5475600.0, 2788900.0, 1537600.0, 9859600.0, 5336100.0, 1587600.0, 2371600.0, 4326400.0, 19184400.0, ... ]\n",
      "  Summation ([X]^2)    : 89977452623.0\n",
      "  (Summation X)^2      : 1.30749013115e+15\n",
      "\n",
      "  Compute the slope as : 4.16317326566e+12 / 14765180927.9\n",
      "\n",
      "SLOPE     : 281.958838568\n",
      "INTERCEPT : -47116.0765749\n",
      "----------------------------------------------------------\n",
      "\n",
      "Intercept: -47116.0765749\n",
      "Slope: 281.958838568\n"
     ]
    }
   ],
   "source": [
    "sqft_intercept, sqft_slope = simple_linear_regression(train_data['sqft_living'], train_data['price'])\n",
    "\n",
    "print \"Intercept: \" + str(sqft_intercept)\n",
    "print \"Slope: \" + str(sqft_slope)"
   ]
  },
  {
   "cell_type": "markdown",
   "metadata": {},
   "source": [
    "# Predicting Values"
   ]
  },
  {
   "cell_type": "markdown",
   "metadata": {},
   "source": [
    "Now that we have the model parameters: intercept & slope we can make predictions. Using SArrays it's easy to multiply an SArray by a constant and add a constant value. Complete the following function to return the predicted output given the input_feature, slope and intercept:"
   ]
  },
  {
   "cell_type": "code",
   "execution_count": 17,
   "metadata": {},
   "outputs": [],
   "source": [
    "def get_regression_predictions(input_feature, intercept, slope):\n",
    "    # calculate the predicted values:\n",
    "    predicted_values = intercept + slope * input_feature\n",
    "    \n",
    "    return predicted_values"
   ]
  },
  {
   "cell_type": "markdown",
   "metadata": {},
   "source": [
    "Now that we can calculate a prediction given the slope and intercept let's make a prediction. Use (or alter) the following to find out the estimated price for a house with 2650 squarefeet according to the squarefeet model we estiamted above.\n",
    "\n",
    "**Quiz Question: Using your Slope and Intercept from (4), What is the predicted price for a house with 2650 sqft?**"
   ]
  },
  {
   "cell_type": "code",
   "execution_count": 18,
   "metadata": {},
   "outputs": [
    {
     "name": "stdout",
     "output_type": "stream",
     "text": [
      "The estimated price for a house with 2650 squarefeet is $700074.85\n"
     ]
    }
   ],
   "source": [
    "my_house_sqft = 2650\n",
    "estimated_price = get_regression_predictions(my_house_sqft, sqft_intercept, sqft_slope)\n",
    "print \"The estimated price for a house with %d squarefeet is $%.2f\" % (my_house_sqft, estimated_price)"
   ]
  },
  {
   "cell_type": "markdown",
   "metadata": {},
   "source": [
    "# Residual Sum of Squares"
   ]
  },
  {
   "cell_type": "markdown",
   "metadata": {},
   "source": [
    "Now that we have a model and can make predictions let's evaluate our model using Residual Sum of Squares (RSS). Recall that RSS is the sum of the squares of the residuals and the residuals is just a fancy word for the difference between the predicted output and the true output. \n",
    "\n",
    "Complete the following (or write your own) function to compute the RSS of a simple linear regression model given the input_feature, output, intercept and slope:"
   ]
  },
  {
   "cell_type": "code",
   "execution_count": 19,
   "metadata": {},
   "outputs": [],
   "source": [
    "def get_residual_sum_of_squares(input_feature, output, intercept, slope):\n",
    "    \n",
    "    if(debug) :\n",
    "        print(\"----------------------------------------------------------\")\n",
    "        print(\"  DEBUG: get_residual_sum_of_squares()\")\n",
    "        print(\"----------------------------------------------------------\")\n",
    "        print(\"Function parameters:\")\n",
    "        print(\"  input_feature : \") + str(input_feature)\n",
    "        print(\"  output        : \") + str(output)\n",
    "        print(\"  intercept     : \") + str(intercept)\n",
    "        print(\"  slope         : \") + str(slope) + \"\\n\"\n",
    "    \n",
    "    # First get the predictions\n",
    "    predicted_y_hat_vector = get_regression_predictions(input_feature, intercept, slope)\n",
    "    \n",
    "    # then compute the residuals (since we are squaring it doesn't matter which order you subtract)\n",
    "    diff_input_output_vector = predicted_y_hat_vector - output\n",
    "    residual_vector = diff_input_output_vector ** 2\n",
    "    \n",
    "    # square the residuals and add them up\n",
    "    RSS = residual_vector.sum()\n",
    "\n",
    "    if(debug) :\n",
    "        print(\"Intermediate calculations of the RSS:\")\n",
    "        print(\"  prediction    : \") + str(diff_input_output_vector)\n",
    "        print(\"  residual      : \") + str(residual_vector) + \"\\n\"\n",
    "        print(\"RSS : \") + str(RSS)\n",
    "        print(\"----------------------------------------------------------\") + \"\\n\"\n",
    "\n",
    "    return(RSS)"
   ]
  },
  {
   "cell_type": "markdown",
   "metadata": {},
   "source": [
    "Let's test our get_residual_sum_of_squares function by applying it to the test model where the data lie exactly on a line. Since they lie exactly on a line the residual sum of squares should be zero!"
   ]
  },
  {
   "cell_type": "code",
   "execution_count": 20,
   "metadata": {},
   "outputs": [
    {
     "name": "stdout",
     "output_type": "stream",
     "text": [
      "----------------------------------------------------------\n",
      "  DEBUG: get_residual_sum_of_squares()\n",
      "----------------------------------------------------------\n",
      "Function parameters:\n",
      "  input_feature : [0, 1, 2, 3, 4]\n",
      "  output        : [1, 2, 3, 4, 5]\n",
      "  intercept     : 1.0\n",
      "  slope         : 1.0\n",
      "\n",
      "Intermediate calculations of the RSS:\n",
      "  prediction    : [0.0, 0.0, 0.0, 0.0, 0.0]\n",
      "  residual      : [0.0, 0.0, 0.0, 0.0, 0.0]\n",
      "\n",
      "RSS : 0.0\n",
      "----------------------------------------------------------\n",
      "\n",
      "0.0\n"
     ]
    }
   ],
   "source": [
    "print get_residual_sum_of_squares(test_feature, test_output, test_intercept, test_slope) # should be 0.0"
   ]
  },
  {
   "cell_type": "markdown",
   "metadata": {},
   "source": [
    "Now use your function to calculate the RSS on training data from the squarefeet model calculated above.\n",
    "\n",
    "**Quiz Question: According to this function and the slope and intercept from the squarefeet model What is the RSS for the simple linear regression using squarefeet to predict prices on TRAINING data?**"
   ]
  },
  {
   "cell_type": "code",
   "execution_count": 21,
   "metadata": {},
   "outputs": [
    {
     "name": "stdout",
     "output_type": "stream",
     "text": [
      "----------------------------------------------------------\n",
      "  DEBUG: get_residual_sum_of_squares()\n",
      "----------------------------------------------------------\n",
      "Function parameters:\n",
      "  input_feature : [1180.0, 2570.0, 770.0, 1960.0, 1680.0, 5420.0, 1715.0, 1060.0, 1780.0, 1890.0, 3560.0, 1160.0, 1370.0, 1810.0, 1890.0, 1600.0, 1200.0, 1250.0, 1620.0, 3050.0, 2270.0, 1070.0, 2450.0, 2450.0, 1400.0, 1520.0, 2570.0, 1190.0, 2330.0, 2060.0, 2300.0, 1660.0, 2360.0, 1220.0, 2570.0, 3595.0, 1570.0, 1280.0, 3160.0, 990.0, 2290.0, 1250.0, 2753.0, 1190.0, 3150.0, 1410.0, 1980.0, 2730.0, 2830.0, 2420.0, 3250.0, 1850.0, 2150.0, 2519.0, 1540.0, 1660.0, 2770.0, 2720.0, 2240.0, 1000.0, 3200.0, 4770.0, 1260.0, 2380.0, 3430.0, 1760.0, 1040.0, 1410.0, 3450.0, 2350.0, 2020.0, 1680.0, 960.0, 2140.0, 2660.0, 2770.0, 1610.0, 1030.0, 3520.0, 1200.0, 1580.0, 1580.0, 3300.0, 1160.0, 1810.0, 2320.0, 2070.0, 1980.0, 2190.0, 2920.0, 1210.0, 2340.0, 1670.0, 1240.0, 3140.0, 2310.0, 1260.0, 1540.0, 2080.0, 4380.0, ... ]\n",
      "  output        : [221900.0, 538000.0, 180000.0, 604000.0, 510000.0, 1225000.0, 257500.0, 291850.0, 229500.0, 323000.0, 662500.0, 468000.0, 400000.0, 530000.0, 395000.0, 485000.0, 189000.0, 230000.0, 385000.0, 2000000.0, 285000.0, 252700.0, 329000.0, 937000.0, 667000.0, 438000.0, 719000.0, 280000.0, 687500.0, 322500.0, 696000.0, 550000.0, 640000.0, 240000.0, 625000.0, 861990.0, 685000.0, 309000.0, 488000.0, 210490.0, 785000.0, 450000.0, 1350000.0, 228000.0, 345000.0, 600000.0, 585000.0, 920000.0, 885000.0, 301000.0, 951000.0, 430000.0, 650000.0, 505000.0, 549000.0, 425000.0, 317625.0, 975000.0, 287000.0, 204000.0, 1325000.0, 1040000.0, 325000.0, 360000.0, 832500.0, 380000.0, 480000.0, 410000.0, 720000.0, 390000.0, 355000.0, 356000.0, 315000.0, 940000.0, 305000.0, 461000.0, 215000.0, 335000.0, 1099880.0, 153000.0, 430000.0, 700000.0, 905000.0, 199000.0, 314000.0, 437500.0, 850830.0, 555000.0, 699950.0, 1088000.0, 290000.0, 375000.0, 460000.0, 188500.0, 680000.0, 597750.0, 570000.0, 272500.0, 329950.0, 740500.0, ... ]\n",
      "  intercept     : -47116.0765749\n",
      "  slope         : 281.958838568\n",
      "\n",
      "Intermediate calculations of the RSS:\n",
      "  prediction    : [63695.35293494293, 139518.13854404236, -10007.770877813018, -98476.75298225309, -83425.22778120835, 256100.82846197998, 178943.33156866103, -40089.70769318077, 225270.65607556136, 162786.12831800804, 294157.3887260627, -188043.823836411, -60832.46773719456, -66770.57876740769, 90786.12831800804, -80981.93486662419, 102234.52970629686, 75332.47163468174, 24657.241904729803, -1187141.618943463, 307930.48697373306, 1879.8806924961973, 314683.07791591866, -293316.92208408134, -319373.70258016366, -56538.641952039965, -41481.86145595764, 8414.941320619895, -77651.98271220503, 211219.13087451668, -94610.74786923593, -129064.40455256234, -21693.21755517414, 56873.70647765085, 52518.13854404236, 104535.9480759321, -289440.7000236551, 4791.236791712698, 355873.85329898377, 21533.173607080418, -186430.336254913, -144667.52836531826, -620883.3939980691, 60414.941320619895, 496054.2649133068, -249554.1141944867, -73837.57621089916, -197368.44728512608, -134172.5634283563, 334224.31275888765, -81749.85122992343, 44507.774775300175, -90904.57365439064, 158138.2377770897, -161899.46518068603, -4064.404552562337, 416284.9062575818, -255188.03567080304, 297471.72181670216, 30842.761992757383, -469847.79315830837, 257827.58339297655, -16847.93997964129, 263945.9592161798, 87502.73971226206, 69131.47930420743, -233878.8844645347, -59554.1141944867, 205641.916483616, 225487.1940591489, 167440.7773318087, 70574.77221879165, -91435.59154995048, -383724.1620400676, 397894.43401513505, 272909.9062575818, 191837.65351905284, -91698.47285021166, -154500.96481664514, 138234.52970629686, -31621.111637978116, -301621.1116379781, -21651.909301538602, 80956.176163589, 149229.4212325923, 169528.428902118, -314291.28073980636, -43837.57621089916, -129576.22011168266, -311796.2679572636, 4054.1180919738254, 237667.60567347193, -36244.81616688537, 114012.88324900478, 158234.67652762984, 6458.840516441036, -261847.9399796413, 114600.53481931397, 209408.3076458706, 447363.6363515747, ... ]\n",
      "  residual      : [4057097985.5069427, 19465310982.794598, 100155477.94280235, 9697670877.927692, 6959768630.346498, 65587634338.9125, 32020715912.891758, 1607184662.9246771, 50746868488.71385, 26499323572.76698, 86528569342.13597, 35360479683.01917, 3700589130.9968166, 4458310188.934594, 8242121094.973821, 6558073774.742162, 10451899064.267694, 5674981282.59013, 607979578.3483634, 1409305223427.7065, 94821184807.88039, 3533951.4180199825, 99025439526.63614, 86034816780.87904, 101999561899.76283, 3196618033.7809734, 1720744829.851264, 70811237.4294761, 6029830419.136589, 44613521247.3862, 8951193612.376131, 16657620522.507473, 470595687.8961154, 3234618488.5059843, 2758154876.131228, 10927764440.133972, 83775918830.18349, 22955949.994261384, 126646199461.86662, 463677565.5926647, 34756270276.119934, 20928693763.330162, 385496188942.5615, 3649965134.7739453, 246069833738.68115, 62277255911.394905, 5451987660.700342, 38954303983.74159, 18002276776.9363, 111705891239.15076, 6683038176.114613, 1980942015.4488466, 8263641511.286532, 25007702247.24336, 26211436825.79217, 16519384.36688945, 173293123177.88364, 65120933549.52305, 88489425280.59344, 951275967.3418794, 220756948735.7325, 66475062758.262276, 283853081.5575954, 69667469386.54924, 7656729457.151884, 4779161430.78806, 54699332598.37517, 3546692517.489962, 42288597815.0545, 50844474684.668274, 28036413913.480343, 4980798473.734326, 8360467402.0893755, 147244232533.35205, 158319980620.22467, 74479816933.52208, 36801685307.69617, 8408609923.061006, 23870548129.27422, 19108785203.12107, 999894701.221475, 90975294985.72966, 468805176.40205383, 6553902459.030056, 22269420161.414474, 28739888206.020477, 98779009149.06778, 1921733088.0463922, 16789996818.431234, 97216912712.07774, 16435873.503669491, 56485890786.56094, 1313686698.9713151, 12998937546.751194, 25038212855.80365, 41716620.81682031, 68564343671.581825, 13133282580.872793, 43851839311.10759, 200134223129.70395, ... ]\n",
      "\n",
      "RSS : 1.20191835632e+15\n",
      "----------------------------------------------------------\n",
      "\n",
      "The RSS of predicting Prices based on Square Feet is : 1.20191835632e+15\n"
     ]
    }
   ],
   "source": [
    "rss_prices_on_sqft = get_residual_sum_of_squares(train_data['sqft_living'], train_data['price'], sqft_intercept, sqft_slope)\n",
    "print 'The RSS of predicting Prices based on Square Feet is : ' + str(rss_prices_on_sqft)"
   ]
  },
  {
   "cell_type": "markdown",
   "metadata": {},
   "source": [
    "# Predict the squarefeet given price"
   ]
  },
  {
   "cell_type": "markdown",
   "metadata": {},
   "source": [
    "What if we want to predict the squarefoot given the price? Since we have an equation y = a + b\\*x we can solve the function for x. So that if we have the intercept (a) and the slope (b) and the price (y) we can solve for the estimated squarefeet (x).\n",
    "\n",
    "Complete the following function to compute the inverse regression estimate, i.e. predict the input_feature given the output."
   ]
  },
  {
   "cell_type": "code",
   "execution_count": 22,
   "metadata": {
    "collapsed": true
   },
   "outputs": [],
   "source": [
    "def inverse_regression_predictions(output, intercept, slope):\n",
    "    # solve output = intercept + slope*input_feature for input_feature. Use this equation to compute the inverse predictions:\n",
    "    \n",
    "    if(debug) :\n",
    "        print(\"----------------------------------------------------------\")\n",
    "        print(\"  DEBUG: inverse_regression_predictions()\")\n",
    "        print(\"----------------------------------------------------------\")\n",
    "        print(\"Function parameters:\")\n",
    "        print(\"  output          : \") + str(output)\n",
    "        print(\"  intercept       : \") + str(intercept)\n",
    "        print(\"  slope           : \") + str(slope) + \"\\n\"\n",
    "    \n",
    "    estimated_feature = float((output - intercept)) / slope\n",
    "    \n",
    "    if(debug) :\n",
    "        print(\"ESTIMATED FEATURE : \") + str(estimated_feature)\n",
    "        print(\"----------------------------------------------------------\") + \"\\n\"\n",
    "\n",
    "    return estimated_feature"
   ]
  },
  {
   "cell_type": "markdown",
   "metadata": {},
   "source": [
    "Now that we have a function to compute the squarefeet given the price from our simple regression model let's see how big we might expect a house that costs $800,000 to be.\n",
    "\n",
    "**Quiz Question: According to this function and the regression slope and intercept from (3) what is the estimated square-feet for a house costing $800,000?**"
   ]
  },
  {
   "cell_type": "code",
   "execution_count": 23,
   "metadata": {},
   "outputs": [
    {
     "name": "stdout",
     "output_type": "stream",
     "text": [
      "----------------------------------------------------------\n",
      "  DEBUG: inverse_regression_predictions()\n",
      "----------------------------------------------------------\n",
      "Function parameters:\n",
      "  output          : 800000\n",
      "  intercept       : -47116.0765749\n",
      "  slope           : 281.958838568\n",
      "\n",
      "ESTIMATED FEATURE : 3004.39624762\n",
      "----------------------------------------------------------\n",
      "\n",
      "The estimated squarefeet for a house worth $800000.00 is 3004\n"
     ]
    }
   ],
   "source": [
    "my_house_price = 800000\n",
    "estimated_squarefeet = inverse_regression_predictions(my_house_price, sqft_intercept, sqft_slope)\n",
    "print \"The estimated squarefeet for a house worth $%.2f is %d\" % (my_house_price, estimated_squarefeet)"
   ]
  },
  {
   "cell_type": "markdown",
   "metadata": {},
   "source": [
    "# New Model: estimate prices from bedrooms"
   ]
  },
  {
   "cell_type": "markdown",
   "metadata": {},
   "source": [
    "We have made one model for predicting house prices using squarefeet, but there are many other features in the sales SFrame. \n",
    "Use your simple linear regression function to estimate the regression parameters from predicting Prices based on number of bedrooms. Use the training data!"
   ]
  },
  {
   "cell_type": "code",
   "execution_count": 24,
   "metadata": {},
   "outputs": [
    {
     "name": "stdout",
     "output_type": "stream",
     "text": [
      "----------------------------------------------------------\n",
      "  DEBUG: simple_linear_regression()\n",
      "----------------------------------------------------------\n",
      "Function parameters:\n",
      "  Vector X             : [3.0, 3.0, 2.0, 4.0, 3.0, 4.0, 3.0, 3.0, 3.0, 3.0, 3.0, 2.0, 3.0, 5.0, 3.0, 4.0, 2.0, 3.0, 4.0, 3.0, 5.0, 2.0, 3.0, 3.0, 3.0, 3.0, 4.0, 2.0, 4.0, 4.0, 3.0, 4.0, 4.0, 4.0, 4.0, 5.0, 3.0, 3.0, 3.0, 3.0, 4.0, 3.0, 3.0, 3.0, 5.0, 3.0, 2.0, 5.0, 4.0, 3.0, 5.0, 4.0, 3.0, 3.0, 3.0, 3.0, 3.0, 4.0, 4.0, 3.0, 5.0, 5.0, 3.0, 4.0, 4.0, 4.0, 3.0, 3.0, 4.0, 3.0, 2.0, 3.0, 3.0, 3.0, 5.0, 3.0, 2.0, 2.0, 5.0, 3.0, 3.0, 3.0, 4.0, 4.0, 3.0, 3.0, 3.0, 3.0, 3.0, 3.0, 3.0, 3.0, 3.0, 2.0, 4.0, 4.0, 3.0, 3.0, 3.0, 3.0, ... ]\n",
      "  Vector Y             : [221900.0, 538000.0, 180000.0, 604000.0, 510000.0, 1225000.0, 257500.0, 291850.0, 229500.0, 323000.0, 662500.0, 468000.0, 400000.0, 530000.0, 395000.0, 485000.0, 189000.0, 230000.0, 385000.0, 2000000.0, 285000.0, 252700.0, 329000.0, 937000.0, 667000.0, 438000.0, 719000.0, 280000.0, 687500.0, 322500.0, 696000.0, 550000.0, 640000.0, 240000.0, 625000.0, 861990.0, 685000.0, 309000.0, 488000.0, 210490.0, 785000.0, 450000.0, 1350000.0, 228000.0, 345000.0, 600000.0, 585000.0, 920000.0, 885000.0, 301000.0, 951000.0, 430000.0, 650000.0, 505000.0, 549000.0, 425000.0, 317625.0, 975000.0, 287000.0, 204000.0, 1325000.0, 1040000.0, 325000.0, 360000.0, 832500.0, 380000.0, 480000.0, 410000.0, 720000.0, 390000.0, 355000.0, 356000.0, 315000.0, 940000.0, 305000.0, 461000.0, 215000.0, 335000.0, 1099880.0, 153000.0, 430000.0, 700000.0, 905000.0, 199000.0, 314000.0, 437500.0, 850830.0, 555000.0, 699950.0, 1088000.0, 290000.0, 375000.0, 460000.0, 188500.0, 680000.0, 597750.0, 570000.0, 272500.0, 329950.0, 740500.0, ... ]\n",
      "  Vector length        : 17384\n",
      "\n",
      "Intermediate calculations of the regression slope and intercept:\n",
      "  Summation of X       : 58573.0\n",
      "  Summation of Y       : 9376349465.0\n",
      "  X * Y                : [665700.0, 1614000.0, 360000.0, 2416000.0, 1530000.0, 4900000.0, 772500.0, 875550.0, 688500.0, 969000.0, 1987500.0, 936000.0, 1200000.0, 2650000.0, 1185000.0, 1940000.0, 378000.0, 690000.0, 1540000.0, 6000000.0, 1425000.0, 505400.0, 987000.0, 2811000.0, 2001000.0, 1314000.0, 2876000.0, 560000.0, 2750000.0, 1290000.0, 2088000.0, 2200000.0, 2560000.0, 960000.0, 2500000.0, 4309950.0, 2055000.0, 927000.0, 1464000.0, 631470.0, 3140000.0, 1350000.0, 4050000.0, 684000.0, 1725000.0, 1800000.0, 1170000.0, 4600000.0, 3540000.0, 903000.0, 4755000.0, 1720000.0, 1950000.0, 1515000.0, 1647000.0, 1275000.0, 952875.0, 3900000.0, 1148000.0, 612000.0, 6625000.0, 5200000.0, 975000.0, 1440000.0, 3330000.0, 1520000.0, 1440000.0, 1230000.0, 2880000.0, 1170000.0, 710000.0, 1068000.0, 945000.0, 2820000.0, 1525000.0, 1383000.0, 430000.0, 670000.0, 5499400.0, 459000.0, 1290000.0, 2100000.0, 3620000.0, 796000.0, 942000.0, 1312500.0, 2552490.0, 1665000.0, 2099850.0, 3264000.0, 870000.0, 1125000.0, 1380000.0, 377000.0, 2720000.0, 2391000.0, 1710000.0, 817500.0, 989850.0, 2221500.0, ... ]\n",
      "  Summation of [X * Y] : 33414715671.0\n",
      "  [X]^2                : [9.0, 9.0, 4.0, 16.0, 9.0, 16.0, 9.0, 9.0, 9.0, 9.0, 9.0, 4.0, 9.0, 25.0, 9.0, 16.0, 4.0, 9.0, 16.0, 9.0, 25.0, 4.0, 9.0, 9.0, 9.0, 9.0, 16.0, 4.0, 16.0, 16.0, 9.0, 16.0, 16.0, 16.0, 16.0, 25.0, 9.0, 9.0, 9.0, 9.0, 16.0, 9.0, 9.0, 9.0, 25.0, 9.0, 4.0, 25.0, 16.0, 9.0, 25.0, 16.0, 9.0, 9.0, 9.0, 9.0, 9.0, 16.0, 16.0, 9.0, 25.0, 25.0, 9.0, 16.0, 16.0, 16.0, 9.0, 9.0, 16.0, 9.0, 4.0, 9.0, 9.0, 9.0, 25.0, 9.0, 4.0, 4.0, 25.0, 9.0, 9.0, 9.0, 16.0, 16.0, 9.0, 9.0, 9.0, 9.0, 9.0, 9.0, 9.0, 9.0, 9.0, 4.0, 16.0, 16.0, 9.0, 9.0, 9.0, 9.0, ... ]\n",
      "  Summation ([X]^2)    : 211637.0\n",
      "  (Summation X)^2      : 3430796329.0\n",
      "\n",
      "  Compute the slope as : 1822394156.19 / 14283.322538\n",
      "\n",
      "SLOPE     : 127588.952175\n",
      "INTERCEPT : 109473.180469\n",
      "----------------------------------------------------------\n",
      "\n",
      "Intercept: -47116.0765749\n",
      "Slope: 281.958838568\n"
     ]
    }
   ],
   "source": [
    "# Estimate the slope and intercept for predicting 'price' based on 'bedrooms'\n",
    "bedrooms_intercept, bedrooms_slope = simple_linear_regression(train_data['bedrooms'], train_data['price'])\n",
    "\n",
    "print \"Intercept: \" + str(sqft_intercept)\n",
    "print \"Slope: \" + str(sqft_slope)\n"
   ]
  },
  {
   "cell_type": "markdown",
   "metadata": {},
   "source": [
    "# Test your Linear Regression Algorithm"
   ]
  },
  {
   "cell_type": "markdown",
   "metadata": {},
   "source": [
    "Now we have two models for predicting the price of a house. How do we know which one is better? Calculate the RSS on the TEST data (remember this data wasn't involved in learning the model). Compute the RSS from predicting prices using bedrooms and from predicting prices using squarefeet.\n",
    "\n",
    "**Quiz Question: Which model (square feet or bedrooms) has lowest RSS on TEST data? Think about why this might be the case.**"
   ]
  },
  {
   "cell_type": "code",
   "execution_count": 25,
   "metadata": {},
   "outputs": [
    {
     "name": "stdout",
     "output_type": "stream",
     "text": [
      "----------------------------------------------------------\n",
      "  DEBUG: get_residual_sum_of_squares()\n",
      "----------------------------------------------------------\n",
      "Function parameters:\n",
      "  input_feature : [3.0, 4.0, 3.0, 3.0, 3.0, 4.0, 4.0, 4.0, 3.0, 4.0, 3.0, 4.0, 4.0, 3.0, 5.0, 4.0, 3.0, 3.0, 5.0, 3.0, 4.0, 3.0, 5.0, 3.0, 4.0, 3.0, 4.0, 3.0, 3.0, 3.0, 3.0, 4.0, 3.0, 2.0, 3.0, 2.0, 4.0, 5.0, 4.0, 3.0, 3.0, 1.0, 3.0, 4.0, 2.0, 5.0, 4.0, 3.0, 4.0, 3.0, 3.0, 3.0, 4.0, 4.0, 2.0, 3.0, 3.0, 2.0, 4.0, 2.0, 4.0, 3.0, 3.0, 3.0, 4.0, 3.0, 1.0, 4.0, 2.0, 4.0, 5.0, 4.0, 4.0, 4.0, 3.0, 4.0, 4.0, 3.0, 3.0, 4.0, 5.0, 2.0, 4.0, 3.0, 4.0, 3.0, 4.0, 2.0, 3.0, 4.0, 4.0, 3.0, 3.0, 3.0, 3.0, 3.0, 4.0, 3.0, 2.0, 2.0, ... ]\n",
      "  output        : [310000.0, 650000.0, 233000.0, 580500.0, 535000.0, 605000.0, 775000.0, 292500.0, 289000.0, 571000.0, 349000.0, 360000.0, 243500.0, 247500.0, 470000.0, 480000.0, 770000.0, 519950.0, 527700.0, 420000.0, 890000.0, 282950.0, 255000.0, 420000.0, 807100.0, 284000.0, 917500.0, 425000.0, 260000.0, 297000.0, 274250.0, 840000.0, 677900.0, 280000.0, 279950.0, 479950.0, 264950.0, 1025000.0, 2400000.0, 260000.0, 525000.0, 369900.0, 210000.0, 304900.0, 170000.0, 2050000.0, 780000.0, 330000.0, 360000.0, 550000.0, 208633.0, 315000.0, 1384000.0, 1400000.0, 548000.0, 520000.0, 230000.0, 232000.0, 740000.0, 640000.0, 940000.0, 559900.0, 265000.0, 425000.0, 552250.0, 206600.0, 299000.0, 855000.0, 437500.0, 420000.0, 795000.0, 810000.0, 338000.0, 315000.0, 450000.0, 799000.0, 403950.0, 490000.0, 330000.0, 927000.0, 530000.0, 352000.0, 322500.0, 650000.0, 339000.0, 570000.0, 423000.0, 482000.0, 1300000.0, 988000.0, 1000000.0, 350000.0, 205000.0, 333500.0, 255000.0, 348000.0, 325000.0, 340500.0, 290900.0, 315000.0, ... ]\n",
      "  intercept     : 109473.180469\n",
      "  slope         : 127588.952175\n",
      "\n",
      "Intermediate calculations of the RSS:\n",
      "  prediction    : [182240.0369930393, -30171.01083237666, 259240.0369930393, -88259.9630069607, -42759.963006960694, 14828.989167623338, -155171.01083237666, 327328.98916762334, 203240.0369930393, 48828.98916762334, 143240.0369930393, 259828.98916762334, 376328.98916762334, 244740.0369930393, 277417.94134220737, 139828.98916762334, -277759.9630069607, -27709.963006960694, 219717.94134220737, 72240.0369930393, -270171.01083237666, 209290.0369930393, 492417.94134220737, 72240.0369930393, -187271.01083237666, 208240.0369930393, -297671.01083237666, 67240.0369930393, 232240.0369930393, 195240.0369930393, 217990.0369930393, -220171.01083237666, -185659.9630069607, 84651.08481845527, 212290.0369930393, -115298.91518154473, 354878.98916762334, -277582.05865779263, -1780171.0108323768, 232240.0369930393, -32759.963006960694, -132837.86735612876, 282240.0369930393, 314928.98916762334, 194651.08481845527, -1302582.0586577926, -160171.01083237666, 162240.0369930393, 259828.98916762334, -57759.963006960694, 283607.0369930393, 177240.0369930393, -764171.0108323767, -780171.0108323767, -183348.91518154473, -27759.963006960694, 262240.0369930393, 132651.08481845527, -120171.01083237666, -275348.9151815447, -320171.01083237666, -67659.9630069607, 227240.0369930393, 67240.0369930393, 67578.98916762334, 285640.0369930393, -61937.86735612876, -235171.01083237666, -72848.91518154473, 199828.98916762334, -47582.05865779263, -190171.01083237666, 281828.98916762334, 304828.98916762334, 42240.036993039306, -179171.01083237666, 215878.98916762334, 2240.0369930393063, 162240.0369930393, -307171.01083237666, 217417.94134220737, 12651.084818455274, 297328.98916762334, -157759.9630069607, 280828.98916762334, -77759.9630069607, 196828.98916762334, -117348.91518154473, -807759.9630069607, -368171.01083237666, -380171.01083237666, 142240.0369930393, 287240.0369930393, 158740.0369930393, 237240.0369930393, 144240.0369930393, 294828.98916762334, 151740.0369930393, 73751.08481845527, 49651.084818455274, ... ]\n",
      "  residual      : [33211431083.224335, 910289894.6473899, 67205396780.15239, 7789821069.99007, 1828414436.356647, 219898919.73349032, 24078042602.741554, 107144267149.49808, 41306512636.931984, 2384270183.1318774, 20517708197.76727, 67511103611.86893, 141623508087.92517, 59897685707.35425, 76960714178.54842, 19552146211.639324, 77150597049.62817, 767842049.8471302, 48275973747.65768, 5218622944.755688, 72992375094.18819, 43802319584.54776, 242475428955.69757, 5218622944.755688, 35070431498.18014, 43363913006.86238, 88608030689.9689, 4521222574.8252945, 53935434782.52827, 38118672045.04336, 47519656228.22665, 48475274010.95052, 34469621863.74601, 7165806160.941309, 45067059806.506, 13293839842.041044, 125939096952.63412, 77051799288.69823, 3169008827807.9663, 53935434782.52827, 1073215176.2174331, 17645899003.724457, 79659438481.8322, 99180268218.14102, 37889044821.00147, 1696720019537.173, 25654752711.065323, 26321829603.50276, 67511103611.86893, 3336213326.565468, 80432951431.97116, 31414030713.29394, 583957333796.5763, 608666806143.2124, 33616824698.249283, 770615546.1478262, 68769837002.11063, 17596310303.513016, 14441071844.47519, 75817025091.65352, 102509476177.42586, 4577870594.10329, 51638034412.59787, 4521222574.8252945, 4566919776.917752, 81590230733.38486, 3836299412.6254005, 55305404335.92182, 5306964443.127897, 39931624911.75413, 2264052306.1136184, 36165013361.00792, 79427579135.24435, 92920712636.95503, 1784220725.173329, 32102251122.695637, 46603737964.034836, 5017765.730184577, 26321829603.50276, 94354029895.78406, 47270561217.48353, 160049947.08374953, 88404527799.44067, 24888205927.957607, 78864921156.9091, 6046611846.843896, 38741650976.74838, 13770767894.285378, 652476157837.0065, 135549893217.33401, 144529997477.31107, 20232228123.78119, 82506838851.76259, 25198399344.551487, 56282835152.45866, 20805188271.75335, 86924132853.60255, 23025038826.648937, 5439222511.898984, 2465230223.64944, ... ]\n",
      "\n",
      "RSS : 4.93364582868e+14\n",
      "----------------------------------------------------------\n",
      "\n",
      "RSS of bedroom model : 4.93364582868e+14\n"
     ]
    }
   ],
   "source": [
    "# Compute RSS when using bedrooms on TEST data:\n",
    "RSS_bedrooms = get_residual_sum_of_squares(test_data['bedrooms'], test_data['price'], bedrooms_intercept, bedrooms_slope)\n",
    "print(\"RSS of bedroom model : \") + str(RSS_bedrooms)"
   ]
  },
  {
   "cell_type": "code",
   "execution_count": 26,
   "metadata": {},
   "outputs": [
    {
     "name": "stdout",
     "output_type": "stream",
     "text": [
      "----------------------------------------------------------\n",
      "  DEBUG: get_residual_sum_of_squares()\n",
      "----------------------------------------------------------\n",
      "Function parameters:\n",
      "  input_feature : [1430.0, 2950.0, 1710.0, 2320.0, 1090.0, 2620.0, 4220.0, 2250.0, 1260.0, 2750.0, 1790.0, 1900.0, 1980.0, 1960.0, 2030.0, 3230.0, 2910.0, 1170.0, 2820.0, 1060.0, 2550.0, 1250.0, 2060.0, 2020.0, 2680.0, 1560.0, 3880.0, 1120.0, 1670.0, 1940.0, 910.0, 2480.0, 2440.0, 850.0, 1750.0, 1510.0, 1720.0, 3760.0, 3650.0, 1810.0, 2100.0, 760.0, 1700.0, 2600.0, 860.0, 3830.0, 3500.0, 2420.0, 2160.0, 1970.0, 2040.0, 2200.0, 4290.0, 4290.0, 1470.0, 2030.0, 1450.0, 1240.0, 2050.0, 1070.0, 2490.0, 2930.0, 1420.0, 2500.0, 2580.0, 1390.0, 560.0, 2270.0, 990.0, 1750.0, 3040.0, 3520.0, 2090.0, 2180.0, 1640.0, 2510.0, 2120.0, 1980.0, 1600.0, 3300.0, 2720.0, 940.0, 1820.0, 1510.0, 2390.0, 2910.0, 2200.0, 950.0, 2350.0, 4040.0, 2610.0, 1250.0, 940.0, 1220.0, 1240.0, 2570.0, 1850.0, 2270.0, 1610.0, 630.0, ... ]\n",
      "  output        : [310000.0, 650000.0, 233000.0, 580500.0, 535000.0, 605000.0, 775000.0, 292500.0, 289000.0, 571000.0, 349000.0, 360000.0, 243500.0, 247500.0, 470000.0, 480000.0, 770000.0, 519950.0, 527700.0, 420000.0, 890000.0, 282950.0, 255000.0, 420000.0, 807100.0, 284000.0, 917500.0, 425000.0, 260000.0, 297000.0, 274250.0, 840000.0, 677900.0, 280000.0, 279950.0, 479950.0, 264950.0, 1025000.0, 2400000.0, 260000.0, 525000.0, 369900.0, 210000.0, 304900.0, 170000.0, 2050000.0, 780000.0, 330000.0, 360000.0, 550000.0, 208633.0, 315000.0, 1384000.0, 1400000.0, 548000.0, 520000.0, 230000.0, 232000.0, 740000.0, 640000.0, 940000.0, 559900.0, 265000.0, 425000.0, 552250.0, 206600.0, 299000.0, 855000.0, 437500.0, 420000.0, 795000.0, 810000.0, 338000.0, 315000.0, 450000.0, 799000.0, 403950.0, 490000.0, 330000.0, 927000.0, 530000.0, 352000.0, 322500.0, 650000.0, 339000.0, 570000.0, 423000.0, 482000.0, 1300000.0, 988000.0, 1000000.0, 350000.0, 205000.0, 333500.0, 255000.0, 348000.0, 325000.0, 340500.0, 290900.0, 315000.0, ... ]\n",
      "  intercept     : -47116.0765749\n",
      "  slope         : 281.958838568\n",
      "\n",
      "Intermediate calculations of the RSS:\n",
      "  prediction    : [46085.06257686729, 134662.49719976727, 202033.53737582255, 26528.428902118, -274780.9425361498, 86616.08047242719, 367750.222180743, 294791.3102023791, 19152.06002035871, 157270.72948622785, 108590.24446123833, 128605.716703685, 267662.42378910084, 258023.2470177469, 55260.36571748566, 383610.97199872264, 3384.1436570594087, -237174.23545073404, 220307.8481859666, -168239.70769318077, -218121.03822731168, 22382.471634681744, 278719.1308745167, 102440.7773318087, -98566.38921351102, 108739.71159066795, 129384.21706772596, -156322.17737911892, 163755.18383311463, 202884.07024639298, -64783.53347833536, -187858.15692705044, -37036.5104697583, -87451.06379239721, 166361.89091853047, -101308.23033771693, 172903.1257614995, -11950.843560397858, -1417966.3158028445, 203229.4212325923, 19997.484417224536, -202727.35926348998, 222213.94899014558, 381076.90370107326, 25368.524593279755, -1017213.7248606589, 159739.85841200093, 305224.31275888765, 201915.01473128633, -41657.16459657613, 319446.95410316275, 258193.3682739943, -221512.65911951824, -237512.65911951824, -180636.58388042485, 5260.3657174856635, 131724.23934822122, 70512.88324900478, -209100.4575111603, -385420.1193075038, -285038.5685413735, 219123.32042841334, 88265.47419119033, 232781.0198443035, 128087.72692971933, 138206.70903415937, -188219.12697702946, -262069.51302626694, -205476.82639291958, 26311.890918530466, 15038.792670860072, 135379.03518335486, 204177.89603154757, 252554.19150264037, -34703.58132391627, -138399.39177001955, 146686.66118857847, 21162.423789100838, 74018.06513337581, -43651.9093015386, 189811.96432919696, -134074.76832130447, 143549.00961826928, -271358.23033771693, 287765.54760185676, 203384.1436570594, 150193.3682739943, -261255.1799356275, -684512.8059408511, 103997.6312385574, -311203.5079132498, -44667.528365318256, 12925.231678695534, -36626.29352234915, 47512.88324900478, 329518.13854404236, 149507.77477530017, 252430.48697373306, 115937.65351905284, -184482.00827729065, ... ]\n",
      "  residual      : [2123832992.713774, 18133988152.077328, 40817550224.58788, 703757540.0147297, 75504566381.05487, 7502345396.405982, 135240225913.98584, 86901916570.83531, 366801403.0234224, 24734082353.130257, 11791841192.1515, 16539430368.868483, 71643173108.65622, 66575996001.58124, 3053708019.2302647, 147157377837.80478, 11452428.291615428, 56251617961.64023, 48535547972.33091, 28304599244.68691, 47576787317.36037, 500975036.4773329, 77684353915.44595, 10494112860.345211, 9715333082.589342, 11824324876.821646, 16740275626.228428, 24436623140.548717, 26815760232.217167, 41161945959.74332, 4196906209.9385986, 35290687124.02831, 1371703107.7765162, 7647688558.4219265, 27676278749.98903, 10263357534.159908, 29895490898.096916, 142822661.80510294, 2010628472751.4922, 41302197654.53445, 399899383.0171381, 41098382193.948135, 49379039125.79502, 145219606534.39706, 643562040.0398397, 1034723762044.8962, 25516822365.486107, 93161881099.13527, 40769673173.93558, 1735319362.2262354, 102046356485.78816, 66663815420.67045, 49067858150.19989, 56412263242.024475, 32629575435.98976, 27671447.48169846, 17351275231.867474, 4972066704.087779, 43723001331.37655, 148548668367.01047, 81246985556.11526, 48015029555.573105, 7790793934.195685, 54187003199.75401, 16406465790.022346, 19101094422.05279, 35426439759.99514, 68680429657.8247, 42220726184.50601, 692315603.7086459, 226165284.9971146, 18327483167.176033, 41688613227.869446, 63783619645.552345, 1204338556.7056699, 19154391642.311356, 21516976570.652813, 447848180.62950104, 5478673966.088664, 1905489185.6697524, 36028581802.50834, 17976043500.41147, 20606318162.385967, 73635289172.01744, 82809010386.59648, 41365109891.11538, 22558047873.48768, 68254269043.197105, 468557781497.0173, 10815507303.23097, 96847623337.51212, 1995188090.266511, 167061613.9479546, 1341485377.1852753, 2257474074.6335588, 108582203629.5307, 22352574718.261883, 63721150753.79601, 13441539503.503944, 34033611378.022335, ... ]\n",
      "\n",
      "RSS : 2.75402936247e+14\n",
      "----------------------------------------------------------\n",
      "\n",
      "RSS of sqft model : 2.75402936247e+14\n"
     ]
    }
   ],
   "source": [
    "# Compute RSS when using squarefeet on TEST data:\n",
    "RSS_sqft = get_residual_sum_of_squares(test_data['sqft_living'], test_data['price'], sqft_intercept, sqft_slope)\n",
    "print(\"RSS of sqft model : \") + str(RSS_sqft)"
   ]
  },
  {
   "cell_type": "code",
   "execution_count": null,
   "metadata": {
    "collapsed": true
   },
   "outputs": [],
   "source": []
  }
 ],
 "metadata": {
  "kernelspec": {
   "display_name": "Python 2",
   "language": "python",
   "name": "python2"
  },
  "language_info": {
   "codemirror_mode": {
    "name": "ipython",
    "version": 2
   },
   "file_extension": ".py",
   "mimetype": "text/x-python",
   "name": "python",
   "nbconvert_exporter": "python",
   "pygments_lexer": "ipython2",
   "version": "2.7.14"
  }
 },
 "nbformat": 4,
 "nbformat_minor": 1
}
