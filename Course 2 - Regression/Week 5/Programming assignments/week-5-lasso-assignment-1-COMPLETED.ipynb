{
 "cells": [
  {
   "cell_type": "markdown",
   "metadata": {},
   "source": [
    "# Regression Week 5: Feature Selection and LASSO (Interpretation)"
   ]
  },
  {
   "cell_type": "markdown",
   "metadata": {},
   "source": [
    "In this notebook, you will use LASSO to select features, building on a pre-implemented solver for LASSO (using GraphLab Create, though you can use other solvers). You will:\n",
    "* Run LASSO with different L1 penalties.\n",
    "* Choose best L1 penalty using a validation set.\n",
    "* Choose best L1 penalty using a validation set, with additional constraint on the size of subset.\n",
    "\n",
    "In the second notebook, you will implement your own LASSO solver, using coordinate descent. "
   ]
  },
  {
   "cell_type": "markdown",
   "metadata": {},
   "source": [
    "# Fire up Graphlab Create"
   ]
  },
  {
   "cell_type": "code",
   "execution_count": 1,
   "metadata": {
    "collapsed": true
   },
   "outputs": [],
   "source": [
    "import graphlab\n",
    "import numpy as np"
   ]
  },
  {
   "cell_type": "markdown",
   "metadata": {},
   "source": [
    "# Load in house sales data\n",
    "\n",
    "Dataset is from house sales in King County, the region where the city of Seattle, WA is located."
   ]
  },
  {
   "cell_type": "code",
   "execution_count": 2,
   "metadata": {
    "collapsed": false,
    "scrolled": true
   },
   "outputs": [
    {
     "name": "stderr",
     "output_type": "stream",
     "text": [
      "[INFO] graphlab.cython.cy_server: GraphLab Create v2.1 started. Logging: /tmp/graphlab_server_1494824033.log\n"
     ]
    },
    {
     "name": "stdout",
     "output_type": "stream",
     "text": [
      "This non-commercial license of GraphLab Create for academic use is assigned to cbrodeur@gmail.com and will expire on March 14, 2018.\n"
     ]
    }
   ],
   "source": [
    "sales = graphlab.SFrame('kc_house_data.gl/')"
   ]
  },
  {
   "cell_type": "markdown",
   "metadata": {},
   "source": [
    "# Create new features"
   ]
  },
  {
   "cell_type": "markdown",
   "metadata": {},
   "source": [
    "As in Week 2, we consider features that are some transformations of inputs."
   ]
  },
  {
   "cell_type": "code",
   "execution_count": 3,
   "metadata": {
    "collapsed": true
   },
   "outputs": [],
   "source": [
    "from math import log, sqrt\n",
    "sales['sqft_living_sqrt'] = sales['sqft_living'].apply(sqrt)\n",
    "sales['sqft_lot_sqrt'] = sales['sqft_lot'].apply(sqrt)\n",
    "sales['bedrooms_square'] = sales['bedrooms']*sales['bedrooms']\n",
    "\n",
    "# In the dataset, 'floors' was defined with type string, \n",
    "# so we'll convert them to float, before creating a new feature.\n",
    "sales['floors'] = sales['floors'].astype(float) \n",
    "sales['floors_square'] = sales['floors']*sales['floors']"
   ]
  },
  {
   "cell_type": "markdown",
   "metadata": {},
   "source": [
    "* Squaring bedrooms will increase the separation between not many bedrooms (e.g. 1) and lots of bedrooms (e.g. 4) since 1^2 = 1 but 4^2 = 16. Consequently this variable will mostly affect houses with many bedrooms.\n",
    "* On the other hand, taking square root of sqft_living will decrease the separation between big house and small house. The owner may not be exactly twice as happy for getting a house that is twice as big."
   ]
  },
  {
   "cell_type": "markdown",
   "metadata": {},
   "source": [
    "# Learn regression weights with L1 penalty"
   ]
  },
  {
   "cell_type": "markdown",
   "metadata": {},
   "source": [
    "Let us fit a model with all the features available, plus the features we just created above."
   ]
  },
  {
   "cell_type": "code",
   "execution_count": 4,
   "metadata": {
    "collapsed": false
   },
   "outputs": [],
   "source": [
    "all_features = ['bedrooms', 'bedrooms_square',\n",
    "            'bathrooms',\n",
    "            'sqft_living', 'sqft_living_sqrt',\n",
    "            'sqft_lot', 'sqft_lot_sqrt',\n",
    "            'floors', 'floors_square',\n",
    "            'waterfront', 'view', 'condition', 'grade',\n",
    "            'sqft_above',\n",
    "            'sqft_basement',\n",
    "            'yr_built', 'yr_renovated']"
   ]
  },
  {
   "cell_type": "markdown",
   "metadata": {},
   "source": [
    "Applying L1 penalty requires adding an extra parameter (`l1_penalty`) to the linear regression call in GraphLab Create. (Other tools may have separate implementations of LASSO.)  Note that it's important to set `l2_penalty=0` to ensure we don't introduce an additional L2 penalty."
   ]
  },
  {
   "cell_type": "code",
   "execution_count": 5,
   "metadata": {
    "collapsed": false
   },
   "outputs": [
    {
     "data": {
      "text/html": [
       "<pre>Linear regression:</pre>"
      ],
      "text/plain": [
       "Linear regression:"
      ]
     },
     "metadata": {},
     "output_type": "display_data"
    },
    {
     "data": {
      "text/html": [
       "<pre>--------------------------------------------------------</pre>"
      ],
      "text/plain": [
       "--------------------------------------------------------"
      ]
     },
     "metadata": {},
     "output_type": "display_data"
    },
    {
     "data": {
      "text/html": [
       "<pre>Number of examples          : 21613</pre>"
      ],
      "text/plain": [
       "Number of examples          : 21613"
      ]
     },
     "metadata": {},
     "output_type": "display_data"
    },
    {
     "data": {
      "text/html": [
       "<pre>Number of features          : 17</pre>"
      ],
      "text/plain": [
       "Number of features          : 17"
      ]
     },
     "metadata": {},
     "output_type": "display_data"
    },
    {
     "data": {
      "text/html": [
       "<pre>Number of unpacked features : 17</pre>"
      ],
      "text/plain": [
       "Number of unpacked features : 17"
      ]
     },
     "metadata": {},
     "output_type": "display_data"
    },
    {
     "data": {
      "text/html": [
       "<pre>Number of coefficients    : 18</pre>"
      ],
      "text/plain": [
       "Number of coefficients    : 18"
      ]
     },
     "metadata": {},
     "output_type": "display_data"
    },
    {
     "data": {
      "text/html": [
       "<pre>Starting Accelerated Gradient (FISTA)</pre>"
      ],
      "text/plain": [
       "Starting Accelerated Gradient (FISTA)"
      ]
     },
     "metadata": {},
     "output_type": "display_data"
    },
    {
     "data": {
      "text/html": [
       "<pre>--------------------------------------------------------</pre>"
      ],
      "text/plain": [
       "--------------------------------------------------------"
      ]
     },
     "metadata": {},
     "output_type": "display_data"
    },
    {
     "data": {
      "text/html": [
       "<pre>+-----------+----------+-----------+--------------+--------------------+---------------+</pre>"
      ],
      "text/plain": [
       "+-----------+----------+-----------+--------------+--------------------+---------------+"
      ]
     },
     "metadata": {},
     "output_type": "display_data"
    },
    {
     "data": {
      "text/html": [
       "<pre>| Iteration | Passes   | Step size | Elapsed Time | Training-max_error | Training-rmse |</pre>"
      ],
      "text/plain": [
       "| Iteration | Passes   | Step size | Elapsed Time | Training-max_error | Training-rmse |"
      ]
     },
     "metadata": {},
     "output_type": "display_data"
    },
    {
     "data": {
      "text/html": [
       "<pre>+-----------+----------+-----------+--------------+--------------------+---------------+</pre>"
      ],
      "text/plain": [
       "+-----------+----------+-----------+--------------+--------------------+---------------+"
      ]
     },
     "metadata": {},
     "output_type": "display_data"
    },
    {
     "data": {
      "text/html": [
       "<pre>Tuning step size. First iteration could take longer than subsequent iterations.</pre>"
      ],
      "text/plain": [
       "Tuning step size. First iteration could take longer than subsequent iterations."
      ]
     },
     "metadata": {},
     "output_type": "display_data"
    },
    {
     "data": {
      "text/html": [
       "<pre>| 1         | 2        | 0.000002  | 1.522362     | 6962915.603493     | 426631.749026 |</pre>"
      ],
      "text/plain": [
       "| 1         | 2        | 0.000002  | 1.522362     | 6962915.603493     | 426631.749026 |"
      ]
     },
     "metadata": {},
     "output_type": "display_data"
    },
    {
     "data": {
      "text/html": [
       "<pre>| 2         | 3        | 0.000002  | 1.568995     | 6843144.200219     | 392488.929838 |</pre>"
      ],
      "text/plain": [
       "| 2         | 3        | 0.000002  | 1.568995     | 6843144.200219     | 392488.929838 |"
      ]
     },
     "metadata": {},
     "output_type": "display_data"
    },
    {
     "data": {
      "text/html": [
       "<pre>| 3         | 4        | 0.000002  | 1.613518     | 6831900.032123     | 385340.166783 |</pre>"
      ],
      "text/plain": [
       "| 3         | 4        | 0.000002  | 1.613518     | 6831900.032123     | 385340.166783 |"
      ]
     },
     "metadata": {},
     "output_type": "display_data"
    },
    {
     "data": {
      "text/html": [
       "<pre>| 4         | 5        | 0.000002  | 1.658284     | 6847166.848958     | 384842.383767 |</pre>"
      ],
      "text/plain": [
       "| 4         | 5        | 0.000002  | 1.658284     | 6847166.848958     | 384842.383767 |"
      ]
     },
     "metadata": {},
     "output_type": "display_data"
    },
    {
     "data": {
      "text/html": [
       "<pre>| 5         | 6        | 0.000002  | 1.701349     | 6869667.895833     | 385998.458623 |</pre>"
      ],
      "text/plain": [
       "| 5         | 6        | 0.000002  | 1.701349     | 6869667.895833     | 385998.458623 |"
      ]
     },
     "metadata": {},
     "output_type": "display_data"
    },
    {
     "data": {
      "text/html": [
       "<pre>| 6         | 7        | 0.000002  | 1.744568     | 6847177.773672     | 380824.455891 |</pre>"
      ],
      "text/plain": [
       "| 6         | 7        | 0.000002  | 1.744568     | 6847177.773672     | 380824.455891 |"
      ]
     },
     "metadata": {},
     "output_type": "display_data"
    },
    {
     "data": {
      "text/html": [
       "<pre>+-----------+----------+-----------+--------------+--------------------+---------------+</pre>"
      ],
      "text/plain": [
       "+-----------+----------+-----------+--------------+--------------------+---------------+"
      ]
     },
     "metadata": {},
     "output_type": "display_data"
    },
    {
     "data": {
      "text/html": [
       "<pre>TERMINATED: Iteration limit reached.</pre>"
      ],
      "text/plain": [
       "TERMINATED: Iteration limit reached."
      ]
     },
     "metadata": {},
     "output_type": "display_data"
    },
    {
     "data": {
      "text/html": [
       "<pre>This model may not be optimal. To improve it, consider increasing `max_iterations`.</pre>"
      ],
      "text/plain": [
       "This model may not be optimal. To improve it, consider increasing `max_iterations`."
      ]
     },
     "metadata": {},
     "output_type": "display_data"
    }
   ],
   "source": [
    "model_all = graphlab.linear_regression.create(sales, target='price', features=all_features,\n",
    "                                              validation_set=None, \n",
    "                                              l2_penalty=0., l1_penalty=1e10)"
   ]
  },
  {
   "cell_type": "markdown",
   "metadata": {},
   "source": [
    "Find what features had non-zero weight."
   ]
  },
  {
   "cell_type": "code",
   "execution_count": 6,
   "metadata": {
    "collapsed": true
   },
   "outputs": [],
   "source": [
    "def print_coefficients(model):    \n",
    "    # Get the degree of the polynomial\n",
    "    deg = len(model.coefficients['value'])-1\n",
    "\n",
    "    # Get learned parameters as a list\n",
    "    w = list(model.coefficients['value'])\n",
    "\n",
    "    # Numpy has a nifty function to print out polynomials in a pretty way\n",
    "    # (We'll use it, but it needs the parameters in the reverse order)\n",
    "    print 'Learned polynomial for degree ' + str(deg) + ':'\n",
    "    w.reverse()\n",
    "    print np.poly1d(w)"
   ]
  },
  {
   "cell_type": "code",
   "execution_count": 7,
   "metadata": {
    "collapsed": false
   },
   "outputs": [
    {
     "name": "stdout",
     "output_type": "stream",
     "text": [
      "Learned polynomial for degree 17:\n",
      "       14         13         5         4        3\n",
      "20.02 x  + 842.1 x  + 350.1 x + 24.42 x + 8469 x + 2.749e+05\n",
      "\n",
      "\n",
      "+------------------+-------+---------------+--------+\n",
      "|       name       | index |     value     | stderr |\n",
      "+------------------+-------+---------------+--------+\n",
      "|   (intercept)    |  None |  274873.05595 |  None  |\n",
      "|     bedrooms     |  None |      0.0      |  None  |\n",
      "| bedrooms_square  |  None |      0.0      |  None  |\n",
      "|    bathrooms     |  None | 8468.53108691 |  None  |\n",
      "|   sqft_living    |  None | 24.4207209824 |  None  |\n",
      "| sqft_living_sqrt |  None | 350.060553386 |  None  |\n",
      "|     sqft_lot     |  None |      0.0      |  None  |\n",
      "|  sqft_lot_sqrt   |  None |      0.0      |  None  |\n",
      "|      floors      |  None |      0.0      |  None  |\n",
      "|  floors_square   |  None |      0.0      |  None  |\n",
      "|    waterfront    |  None |      0.0      |  None  |\n",
      "|       view       |  None |      0.0      |  None  |\n",
      "|    condition     |  None |      0.0      |  None  |\n",
      "|      grade       |  None | 842.068034898 |  None  |\n",
      "|    sqft_above    |  None | 20.0247224171 |  None  |\n",
      "|  sqft_basement   |  None |      0.0      |  None  |\n",
      "|     yr_built     |  None |      0.0      |  None  |\n",
      "|   yr_renovated   |  None |      0.0      |  None  |\n",
      "+------------------+-------+---------------+--------+\n",
      "[18 rows x 4 columns]\n",
      "\n",
      "None\n"
     ]
    }
   ],
   "source": [
    "print_coefficients(model_all)\n",
    "print '\\n'\n",
    "print model_all.coefficients.print_rows(num_rows=18)"
   ]
  },
  {
   "cell_type": "markdown",
   "metadata": {},
   "source": [
    "Note that a majority of the weights have been set to zero. So by setting an L1 penalty that's large enough, we are performing a subset selection. \n",
    "\n",
    "***QUIZ QUESTION***:\n",
    "According to this list of weights, which of the features have been chosen? "
   ]
  },
  {
   "cell_type": "markdown",
   "metadata": {},
   "source": [
    "# Selecting an L1 penalty"
   ]
  },
  {
   "cell_type": "markdown",
   "metadata": {},
   "source": [
    "To find a good L1 penalty, we will explore multiple values using a validation set. Let us do three way split into train, validation, and test sets:\n",
    "* Split our sales data into 2 sets: training and test\n",
    "* Further split our training data into two sets: train, validation\n",
    "\n",
    "Be *very* careful that you use seed = 1 to ensure you get the same answer!"
   ]
  },
  {
   "cell_type": "code",
   "execution_count": 8,
   "metadata": {
    "collapsed": true
   },
   "outputs": [],
   "source": [
    "(training_and_validation, testing) = sales.random_split(.9,seed=1) # initial train/test split\n",
    "(training, validation) = training_and_validation.random_split(0.5, seed=1) # split training into train and validate"
   ]
  },
  {
   "cell_type": "markdown",
   "metadata": {},
   "source": [
    "Next, we write a loop that does the following:\n",
    "* For `l1_penalty` in [10^1, 10^1.5, 10^2, 10^2.5, ..., 10^7] (to get this in Python, type `np.logspace(1, 7, num=13)`.)\n",
    "    * Fit a regression model with a given `l1_penalty` on TRAIN data. Specify `l1_penalty=l1_penalty` and `l2_penalty=0.` in the parameter list.\n",
    "    * Compute the RSS on VALIDATION data (here you will want to use `.predict()`) for that `l1_penalty`\n",
    "* Report which `l1_penalty` produced the lowest RSS on validation data.\n",
    "\n",
    "When you call `linear_regression.create()` make sure you set `validation_set = None`.\n",
    "\n",
    "Note: you can turn off the print out of `linear_regression.create()` with `verbose = False`"
   ]
  },
  {
   "cell_type": "code",
   "execution_count": 9,
   "metadata": {
    "collapsed": false
   },
   "outputs": [],
   "source": [
    "def train_model(l1_penalty, output_name, features_list):\n",
    "\n",
    "    # Train the linear regression model on the training set\n",
    "    model = graphlab.linear_regression.create(training, \n",
    "                                              target = output_name, \n",
    "                                              features = all_features, \n",
    "                                              l2_penalty = 0.,\n",
    "                                              l1_penalty = l1_penalty,\n",
    "                                              validation_set = None, \n",
    "                                              verbose = False)\n",
    "\n",
    "    # Calculate the residuals and the RSS for the validation set\n",
    "    residuals = validation[output_name] - model.predict(validation)\n",
    "    RSS = (residuals**2).sum()   \n",
    "    \n",
    "    return RSS, model['coefficients']['value'].nnz()"
   ]
  },
  {
   "cell_type": "code",
   "execution_count": 10,
   "metadata": {
    "collapsed": false
   },
   "outputs": [
    {
     "name": "stdout",
     "output_type": "stream",
     "text": [
      "Calculating...\n",
      "i : 0\n",
      "- New lowest RSS             : 6.25766285142e+14\n",
      "  New lowest l1_penaly index : 0\n",
      "i : 1\n",
      "i : 2\n",
      "i : 3\n",
      "i : 4\n",
      "i : 5\n",
      "i : 6\n",
      "i : 7\n",
      "i : 8\n",
      "i : 9\n",
      "i : 10\n",
      "i : 11\n",
      "i : 12\n",
      "\n",
      "The optimal l1_penalty is 10.0 with a RSS of 6.25766285142e+14\n",
      "+---------------+-------------+-------------------+\n",
      "|   l1_penalty  | num_nonzero |        RSS        |\n",
      "+---------------+-------------+-------------------+\n",
      "|      10.0     |      18     | 6.25766285142e+14 |\n",
      "| 31.6227766017 |      18     | 6.25766285362e+14 |\n",
      "|     100.0     |      18     | 6.25766286058e+14 |\n",
      "| 316.227766017 |      18     | 6.25766288257e+14 |\n",
      "|     1000.0    |      18     | 6.25766295212e+14 |\n",
      "| 3162.27766017 |      18     | 6.25766317206e+14 |\n",
      "|    10000.0    |      18     | 6.25766386761e+14 |\n",
      "| 31622.7766017 |      18     | 6.25766606749e+14 |\n",
      "|    100000.0   |      18     | 6.25767302792e+14 |\n",
      "| 316227.766017 |      18     | 6.25769507644e+14 |\n",
      "|   1000000.0   |      18     | 6.25776517727e+14 |\n",
      "| 3162277.66017 |      18     | 6.25799062845e+14 |\n",
      "|   10000000.0  |      18     | 6.25883719085e+14 |\n",
      "+---------------+-------------+-------------------+\n",
      "[13 rows x 3 columns]\n",
      "\n"
     ]
    }
   ],
   "source": [
    "l1_penalty_list = np.logspace(1, 7, num=13)\n",
    "\n",
    "best_l1_penalty_index = -1\n",
    "lowest_RSS = -1\n",
    "RSS_list = []\n",
    "num_nonzero_list = []\n",
    "\n",
    "print \"Calculating...\"\n",
    "\n",
    "for i in range(len(l1_penalty_list)) :\n",
    "    print(\"i : \") + str(i)\n",
    "\n",
    "    current_RSS, num_nonzero = train_model(l1_penalty_list[i], 'price', all_features)\n",
    "\n",
    "    if (i == 0) :    # This is our first time through the loop, so initialize the best_l1_penalty_index and lowest_RSS\n",
    "        lowest_RSS = current_RSS\n",
    "        best_l1_penalty_index = i\n",
    "        print(\"- New lowest RSS             : \") + str(lowest_RSS)\n",
    "        print(\"  New lowest l1_penaly index : \") + str(best_l1_penalty_index)\n",
    "        \n",
    "    elif (current_RSS < lowest_RSS) :\n",
    "        lowest_RSS = current_RSS\n",
    "        best_l1_penalty_index = i\n",
    "        print(\"- New lowest RSS             : \") + str(lowest_RSS)\n",
    "        print(\"  New lowest l1_penaly index : \") + str(best_l1_penalty_index)        \n",
    "\n",
    "    RSS_list.append(current_RSS)\n",
    "    num_nonzero_list.append(num_nonzero)\n",
    "\n",
    "print(\"\\nThe optimal l1_penalty is \") + str(l1_penalty_list[best_l1_penalty_index]) + \" with a RSS of \" + str(lowest_RSS) \n",
    "\n",
    "results = graphlab.SFrame()\n",
    "results['l1_penalty'] = l1_penalty_list\n",
    "results['num_nonzero'] = num_nonzero_list\n",
    "results['RSS'] = RSS_list\n",
    "results.print_rows(num_rows=20)"
   ]
  },
  {
   "cell_type": "markdown",
   "metadata": {},
   "source": [
    "*** QUIZ QUESTION. *** What was the best value for the `l1_penalty`?"
   ]
  },
  {
   "cell_type": "markdown",
   "metadata": {
    "collapsed": false
   },
   "source": [
    "The optimal l1_penalty is 10.0 with a RSS of 6.25766285142e+14"
   ]
  },
  {
   "cell_type": "markdown",
   "metadata": {},
   "source": [
    "***QUIZ QUESTION***\n",
    "Also, using this value of L1 penalty, how many nonzero weights do you have?"
   ]
  },
  {
   "cell_type": "code",
   "execution_count": 11,
   "metadata": {
    "collapsed": false
   },
   "outputs": [
    {
     "name": "stdout",
     "output_type": "stream",
     "text": [
      "+------------------+-------+------------------+--------+\n",
      "|       name       | index |      value       | stderr |\n",
      "+------------------+-------+------------------+--------+\n",
      "|   (intercept)    |  None |  18993.4272128   |  None  |\n",
      "|     bedrooms     |  None |  7936.96767903   |  None  |\n",
      "| bedrooms_square  |  None |  936.993368193   |  None  |\n",
      "|    bathrooms     |  None |  25409.5889341   |  None  |\n",
      "|   sqft_living    |  None |  39.1151363797   |  None  |\n",
      "| sqft_living_sqrt |  None |  1124.65021281   |  None  |\n",
      "|     sqft_lot     |  None | 0.00348361822299 |  None  |\n",
      "|  sqft_lot_sqrt   |  None |  148.258391011   |  None  |\n",
      "|      floors      |  None |   21204.335467   |  None  |\n",
      "|  floors_square   |  None |  12915.5243361   |  None  |\n",
      "|    waterfront    |  None |  601905.594545   |  None  |\n",
      "|       view       |  None |  93312.8573119   |  None  |\n",
      "|    condition     |  None |  6609.03571245   |  None  |\n",
      "|      grade       |  None |  6206.93999188   |  None  |\n",
      "|    sqft_above    |  None |  43.2870534193   |  None  |\n",
      "|  sqft_basement   |  None |  122.367827534   |  None  |\n",
      "|     yr_built     |  None |  9.43363539372   |  None  |\n",
      "|   yr_renovated   |  None |  56.0720034488   |  None  |\n",
      "+------------------+-------+------------------+--------+\n",
      "[18 rows x 4 columns]\n",
      "\n",
      "None\n"
     ]
    }
   ],
   "source": [
    "optimal_model = graphlab.linear_regression.create(training, \n",
    "                                        target = 'price', \n",
    "                                        features = all_features, \n",
    "                                        l2_penalty = 0.,\n",
    "                                        l1_penalty = 10.,\n",
    "                                        validation_set = None, \n",
    "                                        verbose = False)\n",
    "\n",
    "print optimal_model.coefficients.print_rows(num_rows=18)"
   ]
  },
  {
   "cell_type": "markdown",
   "metadata": {},
   "source": [
    "# Limit the number of nonzero weights\n",
    "\n",
    "What if we absolutely wanted to limit ourselves to, say, 7 features? This may be important if we want to derive \"a rule of thumb\" --- an interpretable model that has only a few features in them."
   ]
  },
  {
   "cell_type": "markdown",
   "metadata": {},
   "source": [
    "In this section, you are going to implement a simple, two phase procedure to achive this goal:\n",
    "1. Explore a large range of `l1_penalty` values to find a narrow region of `l1_penalty` values where models are likely to have the desired number of non-zero weights.\n",
    "2. Further explore the narrow region you found to find a good value for `l1_penalty` that achieves the desired sparsity.  Here, we will again use a validation set to choose the best value for `l1_penalty`."
   ]
  },
  {
   "cell_type": "code",
   "execution_count": 12,
   "metadata": {
    "collapsed": true
   },
   "outputs": [],
   "source": [
    "max_nonzeros = 7"
   ]
  },
  {
   "cell_type": "markdown",
   "metadata": {},
   "source": [
    "## Exploring the larger range of values to find a narrow range with the desired sparsity\n",
    "\n",
    "Let's define a wide range of possible `l1_penalty_values`:"
   ]
  },
  {
   "cell_type": "code",
   "execution_count": 13,
   "metadata": {
    "collapsed": false
   },
   "outputs": [],
   "source": [
    "l1_penalty_list = np.logspace(8, 10, num=20)"
   ]
  },
  {
   "cell_type": "markdown",
   "metadata": {},
   "source": [
    "Now, implement a loop that search through this space of possible `l1_penalty` values:\n",
    "\n",
    "* For `l1_penalty` in `np.logspace(8, 10, num=20)`:\n",
    "    * Fit a regression model with a given `l1_penalty` on TRAIN data. Specify `l1_penalty=l1_penalty` and `l2_penalty=0.` in the parameter list. When you call `linear_regression.create()` make sure you set `validation_set = None`\n",
    "    * Extract the weights of the model and count the number of nonzeros. Save the number of nonzeros to a list.\n",
    "        * *Hint: `model['coefficients']['value']` gives you an SArray with the parameters you learned.  If you call the method `.nnz()` on it, you will find the number of non-zero parameters!* "
   ]
  },
  {
   "cell_type": "code",
   "execution_count": 14,
   "metadata": {
    "collapsed": false
   },
   "outputs": [
    {
     "name": "stdout",
     "output_type": "stream",
     "text": [
      "Calculating...\n",
      "i : 0\n",
      "- New lowest RSS             : 6.27492659875e+14\n",
      "  New lowest l1_penaly index : 0\n",
      "i : 1\n",
      "i : 2\n",
      "i : 3\n",
      "i : 4\n",
      "i : 5\n",
      "i : 6\n",
      "i : 7\n",
      "i : 8\n",
      "i : 9\n",
      "i : 10\n",
      "i : 11\n",
      "i : 12\n",
      "i : 13\n",
      "i : 14\n",
      "i : 15\n",
      "i : 16\n",
      "i : 17\n",
      "i : 18\n",
      "i : 19\n",
      "\n",
      "The optimal l1_penalty is 100000000.0 with a RSS of 6.27492659875e+14\n"
     ]
    }
   ],
   "source": [
    "best_l1_penalty_index = -1\n",
    "lowest_RSS = -1\n",
    "RSS_list = []\n",
    "num_nonzero_list = []\n",
    "\n",
    "print \"Calculating...\"\n",
    "\n",
    "for i in range(len(l1_penalty_list)) :\n",
    "    print(\"i : \") + str(i)\n",
    "\n",
    "    current_RSS, num_nonzero = train_model(l1_penalty_list[i], 'price', all_features)\n",
    "\n",
    "    if (i == 0) :    # This is our first time through the loop, so initialize the best_l1_penalty_index and lowest_RSS\n",
    "        lowest_RSS = current_RSS\n",
    "        best_l1_penalty_index = i\n",
    "        print(\"- New lowest RSS             : \") + str(lowest_RSS)\n",
    "        print(\"  New lowest l1_penaly index : \") + str(best_l1_penalty_index)\n",
    "        \n",
    "    elif (current_RSS < lowest_RSS) :\n",
    "        lowest_RSS = current_RSS\n",
    "        best_l1_penalty_index = i\n",
    "        print(\"- New lowest RSS             : \") + str(lowest_RSS)\n",
    "        print(\"  New lowest l1_penaly index : \") + str(best_l1_penalty_index)        \n",
    "\n",
    "    RSS_list.append(current_RSS)\n",
    "    num_nonzero_list.append(num_nonzero)\n",
    "\n",
    "print(\"\\nThe optimal l1_penalty is \") + str(l1_penalty_list[best_l1_penalty_index]) + \" with a RSS of \" + str(lowest_RSS) \n"
   ]
  },
  {
   "cell_type": "code",
   "execution_count": 15,
   "metadata": {
    "collapsed": false
   },
   "outputs": [
    {
     "name": "stdout",
     "output_type": "stream",
     "text": [
      "+---------------+-------------+-------------------+\n",
      "|   l1_penalty  | num_nonzero |        RSS        |\n",
      "+---------------+-------------+-------------------+\n",
      "|  100000000.0  |      18     | 6.27492659875e+14 |\n",
      "|  127427498.57 |      18     | 6.28210516771e+14 |\n",
      "| 162377673.919 |      18     | 6.29176689541e+14 |\n",
      "| 206913808.111 |      18     | 6.30650082719e+14 |\n",
      "| 263665089.873 |      17     | 6.32940229287e+14 |\n",
      "| 335981828.628 |      17     |  6.3626814023e+14 |\n",
      "| 428133239.872 |      17     | 6.41261198311e+14 |\n",
      "| 545559478.117 |      17     | 6.48983455376e+14 |\n",
      "| 695192796.178 |      17     | 6.60962217696e+14 |\n",
      "|  885866790.41 |      16     | 6.77261520728e+14 |\n",
      "| 1128837891.68 |      15     | 7.01046815867e+14 |\n",
      "| 1438449888.29 |      15     | 7.37850622829e+14 |\n",
      "| 1832980710.83 |      13     |  7.9616310964e+14 |\n",
      "| 2335721469.09 |      12     | 8.69018172894e+14 |\n",
      "| 2976351441.63 |      10     | 9.66925692362e+14 |\n",
      "| 3792690190.73 |      6      | 1.08186759232e+15 |\n",
      "| 4832930238.57 |      5      | 1.24492736032e+15 |\n",
      "| 6158482110.66 |      3      | 1.38416149024e+15 |\n",
      "| 7847599703.51 |      1      | 1.23079472046e+15 |\n",
      "| 10000000000.0 |      1      | 1.22915716064e+15 |\n",
      "+---------------+-------------+-------------------+\n",
      "[20 rows x 3 columns]\n",
      "\n"
     ]
    }
   ],
   "source": [
    "results = graphlab.SFrame()\n",
    "results['l1_penalty'] = l1_penalty_list\n",
    "results['num_nonzero'] = num_nonzero_list\n",
    "results['RSS'] = RSS_list\n",
    "results.print_rows(num_rows=20)"
   ]
  },
  {
   "cell_type": "markdown",
   "metadata": {},
   "source": [
    "Out of this large range, we want to find the two ends of our desired narrow range of `l1_penalty`.  At one end, we will have `l1_penalty` values that have too few non-zeros, and at the other end, we will have an `l1_penalty` that has too many non-zeros.  \n",
    "\n",
    "More formally, find:\n",
    "* The largest `l1_penalty` that has more non-zeros than `max_nonzeros` (if we pick a penalty smaller than this value, we will definitely have too many non-zero weights)\n",
    "    * Store this value in the variable `l1_penalty_min` (we will use it later)\n",
    "* The smallest `l1_penalty` that has fewer non-zeros than `max_nonzeros` (if we pick a penalty larger than this value, we will definitely have too few non-zero weights)\n",
    "    * Store this value in the variable `l1_penalty_max` (we will use it later)\n",
    "\n",
    "\n",
    "*Hint: there are many ways to do this, e.g.:*\n",
    "* Programmatically within the loop above\n",
    "* Creating a list with the number of non-zeros for each value of `l1_penalty` and inspecting it to find the appropriate boundaries."
   ]
  },
  {
   "cell_type": "code",
   "execution_count": 16,
   "metadata": {
    "collapsed": true
   },
   "outputs": [],
   "source": [
    "l1_penalty_min = 2976351441.63\n",
    "l1_penalty_max = 10000000000.0"
   ]
  },
  {
   "cell_type": "markdown",
   "metadata": {},
   "source": [
    "***QUIZ QUESTION.*** What values did you find for `l1_penalty_min` and `l1_penalty_max`, respectively? "
   ]
  },
  {
   "cell_type": "markdown",
   "metadata": {},
   "source": [
    "## Exploring the narrow range of values to find the solution with the right number of non-zeros that has lowest RSS on the validation set \n",
    "\n",
    "We will now explore the narrow region of `l1_penalty` values we found:"
   ]
  },
  {
   "cell_type": "code",
   "execution_count": 17,
   "metadata": {
    "collapsed": true
   },
   "outputs": [],
   "source": [
    "l1_penalty_list = np.linspace(l1_penalty_min,l1_penalty_max,20)"
   ]
  },
  {
   "cell_type": "markdown",
   "metadata": {},
   "source": [
    "* For `l1_penalty` in `np.linspace(l1_penalty_min,l1_penalty_max,20)`:\n",
    "    * Fit a regression model with a given `l1_penalty` on TRAIN data. Specify `l1_penalty=l1_penalty` and `l2_penalty=0.` in the parameter list. When you call `linear_regression.create()` make sure you set `validation_set = None`\n",
    "    * Measure the RSS of the learned model on the VALIDATION set\n",
    "\n",
    "Find the model that the lowest RSS on the VALIDATION set and has sparsity *equal* to `max_nonzeros`."
   ]
  },
  {
   "cell_type": "code",
   "execution_count": 18,
   "metadata": {
    "collapsed": false
   },
   "outputs": [
    {
     "name": "stdout",
     "output_type": "stream",
     "text": [
      "Calculating...\n",
      "i : 0\n",
      "- New lowest RSS             : 9.66925692362e+14\n",
      "  New lowest l1_penaly index : 0\n",
      "i : 1\n",
      "i : 2\n",
      "i : 3\n",
      "i : 4\n",
      "i : 5\n",
      "i : 6\n",
      "i : 7\n",
      "i : 8\n",
      "i : 9\n",
      "i : 10\n",
      "i : 11\n",
      "i : 12\n",
      "i : 13\n",
      "i : 14\n",
      "i : 15\n",
      "i : 16\n",
      "i : 17\n",
      "i : 18\n",
      "i : 19\n",
      "\n",
      "The optimal l1_penalty is 2976351441.63 with a RSS of 9.66925692362e+14\n",
      "+---------------+-------------+-------------------+\n",
      "|   l1_penalty  | num_nonzero |        RSS        |\n",
      "+---------------+-------------+-------------------+\n",
      "| 2976351441.63 |      10     | 9.66925692362e+14 |\n",
      "| 3346017155.23 |      8      | 1.03699181914e+15 |\n",
      "| 3715682868.83 |      6      | 1.07436022541e+15 |\n",
      "| 4085348582.43 |      6      | 1.11653797143e+15 |\n",
      "| 4455014296.02 |      6      | 1.17534613768e+15 |\n",
      "| 4824680009.62 |      5      |  1.2437473521e+15 |\n",
      "| 5194345723.22 |      5      | 1.30055566129e+15 |\n",
      "| 5564011436.82 |      3      | 1.35012188852e+15 |\n",
      "| 5933677150.42 |      3      | 1.36763312119e+15 |\n",
      "| 6303342864.02 |      3      | 1.40094481031e+15 |\n",
      "| 6673008577.61 |      2      | 1.42542768077e+15 |\n",
      "| 7042674291.21 |      1      | 1.24130203537e+15 |\n",
      "| 7412340004.81 |      1      | 1.23541331666e+15 |\n",
      "| 7782005718.41 |      1      | 1.23122080498e+15 |\n",
      "| 8151671432.01 |      1      | 1.22893618297e+15 |\n",
      "| 8521337145.61 |      1      | 1.22728411558e+15 |\n",
      "|  8891002859.2 |      1      | 1.23026567836e+15 |\n",
      "|  9260668572.8 |      1      | 1.23012028784e+15 |\n",
      "|  9630334286.4 |      1      | 1.22943931084e+15 |\n",
      "| 10000000000.0 |      1      | 1.22915716064e+15 |\n",
      "+---------------+-------------+-------------------+\n",
      "[20 rows x 3 columns]\n",
      "\n"
     ]
    }
   ],
   "source": [
    "best_l1_penalty_index = -1\n",
    "lowest_RSS = -1\n",
    "RSS_list = []\n",
    "num_nonzero_list = []\n",
    "\n",
    "print \"Calculating...\"\n",
    "\n",
    "for i in range(len(l1_penalty_list)) :\n",
    "    print(\"i : \") + str(i)\n",
    "\n",
    "    current_RSS, num_nonzero = train_model(l1_penalty_list[i], 'price', all_features)\n",
    "\n",
    "    if (i == 0) :    # This is our first time through the loop, so initialize the best_l1_penalty_index and lowest_RSS\n",
    "        lowest_RSS = current_RSS\n",
    "        best_l1_penalty_index = i\n",
    "        print(\"- New lowest RSS             : \") + str(lowest_RSS)\n",
    "        print(\"  New lowest l1_penaly index : \") + str(best_l1_penalty_index)\n",
    "        \n",
    "    elif (current_RSS < lowest_RSS) :\n",
    "        lowest_RSS = current_RSS\n",
    "        best_l1_penalty_index = i\n",
    "        print(\"- New lowest RSS             : \") + str(lowest_RSS)\n",
    "        print(\"  New lowest l1_penaly index : \") + str(best_l1_penalty_index)        \n",
    "\n",
    "    RSS_list.append(current_RSS)\n",
    "    num_nonzero_list.append(num_nonzero)\n",
    "\n",
    "print(\"\\nThe optimal l1_penalty is \") + str(l1_penalty_list[best_l1_penalty_index]) + \" with a RSS of \" + str(lowest_RSS) \n",
    "\n",
    "results = graphlab.SFrame()\n",
    "results['l1_penalty'] = l1_penalty_list\n",
    "results['num_nonzero'] = num_nonzero_list\n",
    "results['RSS'] = RSS_list\n",
    "results.print_rows(num_rows=20)"
   ]
  },
  {
   "cell_type": "markdown",
   "metadata": {},
   "source": [
    "***QUIZ QUESTIONS***\n",
    "1. What value of `l1_penalty` in our narrow range has the lowest RSS on the VALIDATION set and has sparsity *equal* to `max_nonzeros`?\n",
    "2. What features in this model have non-zero coefficients?"
   ]
  },
  {
   "cell_type": "code",
   "execution_count": 19,
   "metadata": {
    "collapsed": false
   },
   "outputs": [
    {
     "name": "stdout",
     "output_type": "stream",
     "text": [
      "+------------------+-------+---------------+--------+\n",
      "|       name       | index |     value     | stderr |\n",
      "+------------------+-------+---------------+--------+\n",
      "|   (intercept)    |  None | 216662.306669 |  None  |\n",
      "|     bedrooms     |  None | 1022.64114498 |  None  |\n",
      "| bedrooms_square  |  None |      0.0      |  None  |\n",
      "|    bathrooms     |  None |  16378.182021 |  None  |\n",
      "|   sqft_living    |  None | 32.8401294433 |  None  |\n",
      "| sqft_living_sqrt |  None | 714.241061404 |  None  |\n",
      "|     sqft_lot     |  None |      0.0      |  None  |\n",
      "|  sqft_lot_sqrt   |  None |      0.0      |  None  |\n",
      "|      floors      |  None |  604.48073943 |  None  |\n",
      "|  floors_square   |  None |      0.0      |  None  |\n",
      "|    waterfront    |  None |      0.0      |  None  |\n",
      "|       view       |  None |      0.0      |  None  |\n",
      "|    condition     |  None |      0.0      |  None  |\n",
      "|      grade       |  None | 3061.95940707 |  None  |\n",
      "|    sqft_above    |  None | 30.6643934582 |  None  |\n",
      "|  sqft_basement   |  None |      0.0      |  None  |\n",
      "|     yr_built     |  None |      0.0      |  None  |\n",
      "|   yr_renovated   |  None |      0.0      |  None  |\n",
      "+------------------+-------+---------------+--------+\n",
      "[18 rows x 4 columns]\n",
      "\n",
      "None\n",
      "+------------------+-------+---------------+--------+\n",
      "|       name       | index |     value     | stderr |\n",
      "+------------------+-------+---------------+--------+\n",
      "|   (intercept)    |  None | 236298.089788 |  None  |\n",
      "|     bedrooms     |  None |      0.0      |  None  |\n",
      "| bedrooms_square  |  None |      0.0      |  None  |\n",
      "|    bathrooms     |  None | 14318.5263999 |  None  |\n",
      "|   sqft_living    |  None |  31.002043362 |  None  |\n",
      "| sqft_living_sqrt |  None | 615.241574365 |  None  |\n",
      "|     sqft_lot     |  None |      0.0      |  None  |\n",
      "|  sqft_lot_sqrt   |  None |      0.0      |  None  |\n",
      "|      floors      |  None |      0.0      |  None  |\n",
      "|  floors_square   |  None |      0.0      |  None  |\n",
      "|    waterfront    |  None |      0.0      |  None  |\n",
      "|       view       |  None |      0.0      |  None  |\n",
      "|    condition     |  None |      0.0      |  None  |\n",
      "|      grade       |  None |  2412.666806  |  None  |\n",
      "|    sqft_above    |  None | 28.0711724548 |  None  |\n",
      "|  sqft_basement   |  None |      0.0      |  None  |\n",
      "|     yr_built     |  None |      0.0      |  None  |\n",
      "|   yr_renovated   |  None |      0.0      |  None  |\n",
      "+------------------+-------+---------------+--------+\n",
      "[18 rows x 4 columns]\n",
      "\n",
      "None\n"
     ]
    }
   ],
   "source": [
    "optimal_model_8 = graphlab.linear_regression.create(training, \n",
    "                                        target = 'price', \n",
    "                                        features = all_features, \n",
    "                                        l2_penalty = 0.,\n",
    "                                        l1_penalty = 3346017155.23,\n",
    "                                        validation_set = None, \n",
    "                                        verbose = False)\n",
    "\n",
    "optimal_model_6 = graphlab.linear_regression.create(training, \n",
    "                                        target = 'price', \n",
    "                                        features = all_features, \n",
    "                                        l2_penalty = 0.,\n",
    "                                        l1_penalty = 3715682868.83,\n",
    "                                        validation_set = None, \n",
    "                                        verbose = False)\n",
    "\n",
    "print optimal_model_8.coefficients.print_rows(num_rows=18)\n",
    "print optimal_model_6.coefficients.print_rows(num_rows=18)\n"
   ]
  },
  {
   "cell_type": "code",
   "execution_count": null,
   "metadata": {
    "collapsed": true
   },
   "outputs": [],
   "source": []
  }
 ],
 "metadata": {
  "kernelspec": {
   "display_name": "Python 2",
   "language": "python",
   "name": "python2"
  },
  "language_info": {
   "codemirror_mode": {
    "name": "ipython",
    "version": 2
   },
   "file_extension": ".py",
   "mimetype": "text/x-python",
   "name": "python",
   "nbconvert_exporter": "python",
   "pygments_lexer": "ipython2",
   "version": "2.7.11"
  }
 },
 "nbformat": 4,
 "nbformat_minor": 0
}
